{
 "cells": [
  {
   "cell_type": "code",
   "execution_count": 3,
   "id": "d7474ce1",
   "metadata": {},
   "outputs": [
    {
     "name": "stdout",
     "output_type": "stream",
     "text": [
      "torchattacks: True faiss: True\n"
     ]
    }
   ],
   "source": [
    "# Standard imports\n",
    "import os, random, time\n",
    "from pathlib import Path\n",
    "import numpy as np\n",
    "import matplotlib.pyplot as plt\n",
    "import torch\n",
    "import torch.nn as nn\n",
    "import torch.nn.functional as F\n",
    "from torch.utils.data import DataLoader\n",
    "import torchvision as tv\n",
    "import torchvision.transforms as T\n",
    "from tqdm.auto import tqdm\n",
    "\n",
    "# Optional libs\n",
    "try:\n",
    "    import torchattacks as ta\n",
    "    HAS_TORCHATTACKS = True\n",
    "except Exception:\n",
    "    HAS_TORCHATTACKS = False\n",
    "try:\n",
    "    import faiss\n",
    "    HAS_FAISS = True\n",
    "except Exception:\n",
    "    HAS_FAISS = False\n",
    "\n",
    "print('torchattacks:', HAS_TORCHATTACKS, 'faiss:', HAS_FAISS)\n"
   ]
  },
  {
   "cell_type": "code",
   "execution_count": 4,
   "id": "870c015f",
   "metadata": {},
   "outputs": [
    {
     "name": "stdout",
     "output_type": "stream",
     "text": [
      "Device: cuda, AMP=True\n",
      "Train batches: 391, Train-plain (D') batches: 196, Test batches: 40\n"
     ]
    }
   ],
   "source": [
    "# === ra-cnn-custom.ipynb — Block 1: Setup & Datasets ===\n",
    "# Paper mapping:\n",
    "# - §5.1 Settings: datasets, augmentation only on D (train) not on D' (candidate set)\n",
    "# - §2.3 Retrieval Engine: φ′(x) computed over D' (candidate set) without augmentation\n",
    "# - §5.1 Evaluation metric: normalized L2 dissimilarity\n",
    "\n",
    "import os, math, random, json, time\n",
    "from pathlib import Path\n",
    "\n",
    "import numpy as np\n",
    "import torch\n",
    "import torch.nn as nn\n",
    "import torch.nn.functional as F\n",
    "from torch.utils.data import DataLoader\n",
    "from torchvision import datasets, transforms\n",
    "\n",
    "# ----------------------------\n",
    "# Reproducibility & device\n",
    "# ----------------------------\n",
    "SEED = 1234\n",
    "random.seed(SEED); np.random.seed(SEED); torch.manual_seed(SEED); torch.cuda.manual_seed_all(SEED)\n",
    "torch.backends.cudnn.deterministic = True\n",
    "torch.backends.cudnn.benchmark = False\n",
    "\n",
    "DEVICE = torch.device(\"cuda\" if torch.cuda.is_available() else \"cpu\")\n",
    "AMP = True  # mixed precision for speed on RTX 50xx / T4\n",
    "\n",
    "# ----------------------------\n",
    "# Paths & simple config\n",
    "# ----------------------------\n",
    "ROOT = Path(\".\").resolve()\n",
    "# ✅ changed: use shared root-level data folder so both notebooks reuse same CIFAR-10\n",
    "DATA_DIR = ROOT.parent / \"data\"\n",
    "\n",
    "ARTIFACTS = ROOT / \"artifacts\"\n",
    "CHECKPOINTS = ROOT / \"checkpoints\"\n",
    "RESULTS = ROOT / \"results\"\n",
    "FIGS = ROOT / \"figures\"\n",
    "\n",
    "\n",
    "for p in [ARTIFACTS, CHECKPOINTS, RESULTS, FIGS]:\n",
    "    p.mkdir(parents=True, exist_ok=True)\n",
    "\n",
    "CONFIG = {\n",
    "    \"seed\": SEED,\n",
    "    \"device\": str(DEVICE),\n",
    "    \"amp\": AMP,\n",
    "    \"baseline\": {\"epochs\": 40, \"min_epochs\": 20, \"early_patience\": 8, \"batch_size\": 128, \"lr\": 1e-3, \"wd\": 5e-4},\n",
    "    \"racnn\":    {\"epochs\": 30, \"min_epochs\": 15, \"early_patience\": 6, \"batch_size\": 128, \"lr\": 1e-3, \"wd\": 5e-4},\n",
    "    \"K_values\": [5, 10],\n",
    "    \"mixup\": {\"NMU\": 5, \"NCE\": 1},\n",
    "    \"eps_grid_l2\": [1e-5, 2e-5, 8e-5, 1e-4, 2e-4, 4e-4],\n",
    "    \"pgd\": {\"steps\": 10, \"rand_start\": True}\n",
    "}\n",
    "\n",
    "with open(ROOT / \"config.json\", \"w\") as f:\n",
    "    json.dump(CONFIG, f, indent=2)\n",
    "\n",
    "# ----------------------------\n",
    "# CIFAR-10 normalization\n",
    "# ----------------------------\n",
    "CIFAR10_MEAN = (0.4914, 0.4822, 0.4465)\n",
    "CIFAR10_STD  = (0.2470, 0.2435, 0.2616)\n",
    "\n",
    "# ----------------------------\n",
    "# Transforms\n",
    "# ----------------------------\n",
    "train_transform_aug = transforms.Compose([\n",
    "    transforms.RandomCrop(32, padding=4),\n",
    "    transforms.RandomHorizontalFlip(),\n",
    "    transforms.ToTensor(),\n",
    "    transforms.Normalize(CIFAR10_MEAN, CIFAR10_STD),\n",
    "])\n",
    "\n",
    "plain_transform = transforms.Compose([\n",
    "    transforms.ToTensor(),\n",
    "    transforms.Normalize(CIFAR10_MEAN, CIFAR10_STD),\n",
    "])\n",
    "\n",
    "# ----------------------------\n",
    "# Datasets\n",
    "# ----------------------------\n",
    "# ✅ changed: set download=False everywhere because dataset already exists\n",
    "train_aug_ds   = datasets.CIFAR10(root=DATA_DIR, train=True,  download=True, transform=train_transform_aug)\n",
    "train_plain_ds = datasets.CIFAR10(root=DATA_DIR, train=True,  download=True, transform=plain_transform)\n",
    "test_ds        = datasets.CIFAR10(root=DATA_DIR, train=False, download=True, transform=plain_transform)\n",
    "\n",
    "# ----------------------------\n",
    "# Loaders\n",
    "# ----------------------------\n",
    "BATCH_TRAIN = CONFIG[\"baseline\"][\"batch_size\"]\n",
    "BATCH_EVAL  = 256\n",
    "\n",
    "train_aug_loader   = DataLoader(train_aug_ds,   batch_size=BATCH_TRAIN, shuffle=True,  num_workers=4, pin_memory=True)\n",
    "train_plain_loader = DataLoader(train_plain_ds, batch_size=BATCH_EVAL,  shuffle=False, num_workers=4, pin_memory=True)\n",
    "test_loader        = DataLoader(test_ds,        batch_size=BATCH_EVAL,  shuffle=False, num_workers=4, pin_memory=True)\n",
    "\n",
    "# === Fixed Normalized L2 Dissimilarity (Paper §5.1) ===\n",
    "\n",
    "def normalized_l2(x, x_adv):\n",
    "    \"\"\"\n",
    "    Paper §5.1 metric:\n",
    "      L2_norm(x, x_adv)² / (dim(x))\n",
    "    \n",
    "    For CIFAR-10: pixels are in [0,1] after denormalization,\n",
    "    so (max-min)² = 1² = 1\n",
    "    \n",
    "    Args:\n",
    "        x: normalized tensor [B, C, H, W]\n",
    "        x_adv: normalized adversarial tensor [B, C, H, W]\n",
    "    \n",
    "    Returns:\n",
    "        normalized L2 distance per sample [B]\n",
    "    \"\"\"\n",
    "    # Denormalize to [0, 1] range\n",
    "    mean = torch.tensor(CIFAR10_MEAN, device=x.device).view(1, 3, 1, 1)\n",
    "    std = torch.tensor(CIFAR10_STD, device=x.device).view(1, 3, 1, 1)\n",
    "    \n",
    "    x_raw = (x * std + mean).clamp(0, 1)\n",
    "    x_adv_raw = (x_adv * std + mean).clamp(0, 1)\n",
    "    \n",
    "    # Compute L2² distance\n",
    "    diff = (x_raw - x_adv_raw).view(x.shape[0], -1)  # [B, C*H*W]\n",
    "    l2_squared = (diff ** 2).sum(dim=1)  # [B]\n",
    "    \n",
    "    # Normalize by dimension (3*32*32 = 3072)\n",
    "    dim = diff.shape[1]\n",
    "    \n",
    "    return l2_squared / dim  # Paper formula\n",
    "\n",
    "print(f\"Device: {DEVICE}, AMP={AMP}\")\n",
    "print(f\"Train batches: {len(train_aug_loader)}, Train-plain (D') batches: {len(train_plain_loader)}, Test batches: {len(test_loader)}\")\n"
   ]
  },
  {
   "cell_type": "code",
   "execution_count": 6,
   "id": "9f55d856",
   "metadata": {},
   "outputs": [],
   "source": [
    "class FeatureExtractor(nn.Module):\n",
    "    def __init__(self):\n",
    "        super().__init__()\n",
    "        self.relu = nn.ReLU(inplace=True)\n",
    "\n",
    "        self.c1 = nn.Sequential(\n",
    "            nn.Conv2d(3, 96, 3, 1, 1),   # 32 -> 32\n",
    "            nn.BatchNorm2d(96)\n",
    "        )\n",
    "        self.c2 = nn.Sequential(\n",
    "            nn.Conv2d(96, 96, 3, 1, 1),  # 32 -> 32\n",
    "            nn.BatchNorm2d(96)\n",
    "        )\n",
    "        self.c3 = nn.Sequential(\n",
    "            nn.Conv2d(96, 96, 3, 2, 1),  # 32 -> 16\n",
    "            nn.BatchNorm2d(96)\n",
    "        )\n",
    "        self.c4 = nn.Sequential(\n",
    "            nn.Conv2d(96, 192, 3, 1, 1), # 16 -> 16\n",
    "            nn.BatchNorm2d(192)\n",
    "        )\n",
    "        self.c5 = nn.Sequential(\n",
    "            nn.Conv2d(192, 192, 3, 2, 1), # 16 -> 8\n",
    "            nn.BatchNorm2d(192)\n",
    "        )\n",
    "        self.c6 = nn.Sequential(\n",
    "            nn.Conv2d(192, 192, 3, 2, 1), # 8 -> 4 ✅\n",
    "            nn.BatchNorm2d(192)\n",
    "        )\n",
    "\n",
    "        self.out_dim = 192 * 4 * 4  # ✅ 3072\n",
    "\n",
    "    def forward(self, x):\n",
    "        x = self.relu(self.c1(x))\n",
    "        x = self.relu(self.c2(x))\n",
    "        x = self.relu(self.c3(x))\n",
    "        x = self.relu(self.c4(x))\n",
    "        x = self.relu(self.c5(x))\n",
    "        x = self.c6(x)  # last: BN only ✅\n",
    "        return x        # ✅ [B,192,4,4]\n",
    "\n",
    "\n",
    "\n",
    "class AttentionU(nn.Module):\n",
    "    def __init__(self):\n",
    "        super().__init__()\n",
    "        self.conv = nn.Conv2d(192, 256, kernel_size=4, stride=1, padding=0)\n",
    "\n",
    "    def forward(self, fmap):\n",
    "        x = self.conv(fmap)      # [B,256,1,1]\n",
    "        return x.view(x.size(0), -1)  # [B,256]\n",
    "\n",
    "\n",
    "\n",
    "class Classifier(nn.Module):\n",
    "    \"\"\"Classifier g: 256 -> 64 -> 10\"\"\"\n",
    "    def __init__(self, in_dim=256, num_classes=10):\n",
    "        super().__init__()\n",
    "        self.classifier = nn.Sequential(\n",
    "            nn.Linear(in_dim, 64),\n",
    "            nn.BatchNorm1d(64),\n",
    "            nn.ReLU(inplace=True),\n",
    "            nn.Linear(64, num_classes)\n",
    "        )\n",
    "    def forward(self, x):\n",
    "        return self.classifier(x)\n",
    "\n",
    "\n",
    "\n",
    "class BaselineCNN(nn.Module):\n",
    "    \"\"\"φ' + g' — baseline CNN\"\"\"\n",
    "    def __init__(self, num_classes=10):\n",
    "        super().__init__()\n",
    "        self.feature_extractor = FeatureExtractor()\n",
    "        self.classifier = Classifier(in_dim=3072, num_classes=num_classes)\n",
    "\n",
    "    def forward(self, x):\n",
    "        feats = self.feature_extractor(x)\n",
    "        feats = feats.view(feats.size(0), -1)  # flatten for baseline\n",
    "        logits = self.classifier(feats)\n",
    "        return logits\n"
   ]
  },
  {
   "cell_type": "code",
   "execution_count": 7,
   "id": "c4298c91",
   "metadata": {},
   "outputs": [
    {
     "name": "stdout",
     "output_type": "stream",
     "text": [
      "Baseline CNN (Appendix version) params: 1.20 M\n"
     ]
    }
   ],
   "source": [
    "baseline_model = BaselineCNN(num_classes=10).to(DEVICE)\n",
    "print(f\"Baseline CNN (Appendix version) params: {sum(p.numel() for p in baseline_model.parameters())/1e6:.2f} M\")"
   ]
  },
  {
   "cell_type": "code",
   "execution_count": 8,
   "id": "8ad80ec4",
   "metadata": {},
   "outputs": [
    {
     "name": "stdout",
     "output_type": "stream",
     "text": [
      "Feature shape: torch.Size([1, 192, 4, 4])\n"
     ]
    }
   ],
   "source": [
    "x = torch.randn(1, 3, 32, 32).to(DEVICE)\n",
    "feats = baseline_model.feature_extractor(x)\n",
    "print(\"Feature shape:\", feats.shape) \n"
   ]
  },
  {
   "cell_type": "code",
   "execution_count": 11,
   "id": "63059032",
   "metadata": {},
   "outputs": [
    {
     "name": "stderr",
     "output_type": "stream",
     "text": [
      "C:\\Users\\User\\AppData\\Local\\Temp\\ipykernel_3204\\3468669963.py:24: FutureWarning: `torch.cuda.amp.GradScaler(args...)` is deprecated. Please use `torch.amp.GradScaler('cuda', args...)` instead.\n",
      "  scaler = GradScaler(enabled=AMP)\n"
     ]
    },
    {
     "name": "stdout",
     "output_type": "stream",
     "text": [
      "Training on 45000 images, validating on 5000 images.\n"
     ]
    },
    {
     "name": "stderr",
     "output_type": "stream",
     "text": [
      "[Epoch 1/40] Train:   0%|          | 0/352 [00:00<?, ?it/s]C:\\Users\\User\\AppData\\Local\\Temp\\ipykernel_3204\\3468669963.py:58: FutureWarning: `torch.cuda.amp.autocast(args...)` is deprecated. Please use `torch.amp.autocast('cuda', args...)` instead.\n",
      "  with autocast(enabled=AMP):\n",
      "[Epoch 1] Val:   0%|          | 0/40 [00:00<?, ?it/s]                C:\\Users\\User\\AppData\\Local\\Temp\\ipykernel_3204\\3468669963.py:78: FutureWarning: `torch.cuda.amp.autocast(args...)` is deprecated. Please use `torch.amp.autocast('cuda', args...)` instead.\n",
      "  with autocast(enabled=AMP):\n",
      "                                                              \r"
     ]
    },
    {
     "name": "stdout",
     "output_type": "stream",
     "text": [
      "Epoch 01: train_loss=1.4495 train_acc=0.4786 val_loss=1.2667 val_acc=0.5568\n"
     ]
    },
    {
     "name": "stderr",
     "output_type": "stream",
     "text": [
      "                                                                     \r"
     ]
    },
    {
     "name": "stdout",
     "output_type": "stream",
     "text": [
      "Epoch 02: train_loss=1.0515 train_acc=0.6241 val_loss=1.0589 val_acc=0.6154\n"
     ]
    },
    {
     "name": "stderr",
     "output_type": "stream",
     "text": [
      "                                                                     \r"
     ]
    },
    {
     "name": "stdout",
     "output_type": "stream",
     "text": [
      "Epoch 03: train_loss=0.8895 train_acc=0.6845 val_loss=0.8768 val_acc=0.6908\n"
     ]
    },
    {
     "name": "stderr",
     "output_type": "stream",
     "text": [
      "                                                                     \r"
     ]
    },
    {
     "name": "stdout",
     "output_type": "stream",
     "text": [
      "Epoch 04: train_loss=0.7940 train_acc=0.7189 val_loss=0.8590 val_acc=0.6956\n"
     ]
    },
    {
     "name": "stderr",
     "output_type": "stream",
     "text": [
      "                                                                     \r"
     ]
    },
    {
     "name": "stdout",
     "output_type": "stream",
     "text": [
      "Epoch 05: train_loss=0.7369 train_acc=0.7406 val_loss=0.8502 val_acc=0.7076\n"
     ]
    },
    {
     "name": "stderr",
     "output_type": "stream",
     "text": [
      "                                                                     \r"
     ]
    },
    {
     "name": "stdout",
     "output_type": "stream",
     "text": [
      "Epoch 06: train_loss=0.6850 train_acc=0.7593 val_loss=0.7839 val_acc=0.7274\n"
     ]
    },
    {
     "name": "stderr",
     "output_type": "stream",
     "text": [
      "                                                                     \r"
     ]
    },
    {
     "name": "stdout",
     "output_type": "stream",
     "text": [
      "Epoch 07: train_loss=0.6355 train_acc=0.7799 val_loss=0.6584 val_acc=0.7706\n"
     ]
    },
    {
     "name": "stderr",
     "output_type": "stream",
     "text": [
      "                                                                     \r"
     ]
    },
    {
     "name": "stdout",
     "output_type": "stream",
     "text": [
      "Epoch 08: train_loss=0.6004 train_acc=0.7901 val_loss=0.6319 val_acc=0.7784\n"
     ]
    },
    {
     "name": "stderr",
     "output_type": "stream",
     "text": [
      "                                                                     \r"
     ]
    },
    {
     "name": "stdout",
     "output_type": "stream",
     "text": [
      "Epoch 09: train_loss=0.5668 train_acc=0.8032 val_loss=0.6214 val_acc=0.7832\n"
     ]
    },
    {
     "name": "stderr",
     "output_type": "stream",
     "text": [
      "                                                                      \r"
     ]
    },
    {
     "name": "stdout",
     "output_type": "stream",
     "text": [
      "Epoch 10: train_loss=0.5403 train_acc=0.8133 val_loss=0.6210 val_acc=0.7930\n"
     ]
    },
    {
     "name": "stderr",
     "output_type": "stream",
     "text": [
      "                                                                      \r"
     ]
    },
    {
     "name": "stdout",
     "output_type": "stream",
     "text": [
      "Epoch 11: train_loss=0.5217 train_acc=0.8186 val_loss=0.5914 val_acc=0.7934\n"
     ]
    },
    {
     "name": "stderr",
     "output_type": "stream",
     "text": [
      "                                                                      \r"
     ]
    },
    {
     "name": "stdout",
     "output_type": "stream",
     "text": [
      "Epoch 12: train_loss=0.4919 train_acc=0.8306 val_loss=0.5711 val_acc=0.8070\n"
     ]
    },
    {
     "name": "stderr",
     "output_type": "stream",
     "text": [
      "                                                                      \r"
     ]
    },
    {
     "name": "stdout",
     "output_type": "stream",
     "text": [
      "Epoch 13: train_loss=0.4807 train_acc=0.8348 val_loss=0.5801 val_acc=0.8012\n"
     ]
    },
    {
     "name": "stderr",
     "output_type": "stream",
     "text": [
      "                                                                      \r"
     ]
    },
    {
     "name": "stdout",
     "output_type": "stream",
     "text": [
      "Epoch 14: train_loss=0.4688 train_acc=0.8380 val_loss=0.5040 val_acc=0.8294\n"
     ]
    },
    {
     "name": "stderr",
     "output_type": "stream",
     "text": [
      "                                                                      \r"
     ]
    },
    {
     "name": "stdout",
     "output_type": "stream",
     "text": [
      "Epoch 15: train_loss=0.4482 train_acc=0.8445 val_loss=0.5202 val_acc=0.8186\n"
     ]
    },
    {
     "name": "stderr",
     "output_type": "stream",
     "text": [
      "                                                                      \r"
     ]
    },
    {
     "name": "stdout",
     "output_type": "stream",
     "text": [
      "Epoch 16: train_loss=0.4323 train_acc=0.8510 val_loss=0.4896 val_acc=0.8300\n"
     ]
    },
    {
     "name": "stderr",
     "output_type": "stream",
     "text": [
      "                                                                      \r"
     ]
    },
    {
     "name": "stdout",
     "output_type": "stream",
     "text": [
      "Epoch 17: train_loss=0.4239 train_acc=0.8534 val_loss=0.5090 val_acc=0.8280\n"
     ]
    },
    {
     "name": "stderr",
     "output_type": "stream",
     "text": [
      "                                                                      \r"
     ]
    },
    {
     "name": "stdout",
     "output_type": "stream",
     "text": [
      "Epoch 18: train_loss=0.4127 train_acc=0.8588 val_loss=0.5256 val_acc=0.8174\n"
     ]
    },
    {
     "name": "stderr",
     "output_type": "stream",
     "text": [
      "                                                                      \r"
     ]
    },
    {
     "name": "stdout",
     "output_type": "stream",
     "text": [
      "Epoch 19: train_loss=0.4008 train_acc=0.8619 val_loss=0.5125 val_acc=0.8216\n"
     ]
    },
    {
     "name": "stderr",
     "output_type": "stream",
     "text": [
      "                                                                      \r"
     ]
    },
    {
     "name": "stdout",
     "output_type": "stream",
     "text": [
      "Epoch 20: train_loss=0.3969 train_acc=0.8627 val_loss=0.5560 val_acc=0.8188\n"
     ]
    },
    {
     "name": "stderr",
     "output_type": "stream",
     "text": [
      "                                                                      \r"
     ]
    },
    {
     "name": "stdout",
     "output_type": "stream",
     "text": [
      "Epoch 21: train_loss=0.3808 train_acc=0.8683 val_loss=0.4981 val_acc=0.8364\n"
     ]
    },
    {
     "name": "stderr",
     "output_type": "stream",
     "text": [
      "                                                                      \r"
     ]
    },
    {
     "name": "stdout",
     "output_type": "stream",
     "text": [
      "Epoch 22: train_loss=0.3755 train_acc=0.8709 val_loss=0.4887 val_acc=0.8364\n"
     ]
    },
    {
     "name": "stderr",
     "output_type": "stream",
     "text": [
      "                                                                      \r"
     ]
    },
    {
     "name": "stdout",
     "output_type": "stream",
     "text": [
      "Epoch 23: train_loss=0.3681 train_acc=0.8722 val_loss=0.4710 val_acc=0.8390\n"
     ]
    },
    {
     "name": "stderr",
     "output_type": "stream",
     "text": [
      "                                                                      \r"
     ]
    },
    {
     "name": "stdout",
     "output_type": "stream",
     "text": [
      "Epoch 24: train_loss=0.3584 train_acc=0.8768 val_loss=0.4845 val_acc=0.8386\n"
     ]
    },
    {
     "name": "stderr",
     "output_type": "stream",
     "text": [
      "                                                                      \r"
     ]
    },
    {
     "name": "stdout",
     "output_type": "stream",
     "text": [
      "Epoch 25: train_loss=0.3567 train_acc=0.8771 val_loss=0.4750 val_acc=0.8412\n"
     ]
    },
    {
     "name": "stderr",
     "output_type": "stream",
     "text": [
      "                                                                      \r"
     ]
    },
    {
     "name": "stdout",
     "output_type": "stream",
     "text": [
      "Epoch 26: train_loss=0.3488 train_acc=0.8790 val_loss=0.4870 val_acc=0.8372\n"
     ]
    },
    {
     "name": "stderr",
     "output_type": "stream",
     "text": [
      "                                                                      \r"
     ]
    },
    {
     "name": "stdout",
     "output_type": "stream",
     "text": [
      "Epoch 27: train_loss=0.3486 train_acc=0.8789 val_loss=0.4637 val_acc=0.8408\n"
     ]
    },
    {
     "name": "stderr",
     "output_type": "stream",
     "text": [
      "                                                                      \r"
     ]
    },
    {
     "name": "stdout",
     "output_type": "stream",
     "text": [
      "Epoch 28: train_loss=0.3378 train_acc=0.8826 val_loss=0.4238 val_acc=0.8566\n"
     ]
    },
    {
     "name": "stderr",
     "output_type": "stream",
     "text": [
      "                                                                      \r"
     ]
    },
    {
     "name": "stdout",
     "output_type": "stream",
     "text": [
      "Epoch 29: train_loss=0.3394 train_acc=0.8816 val_loss=0.4187 val_acc=0.8564\n"
     ]
    },
    {
     "name": "stderr",
     "output_type": "stream",
     "text": [
      "                                                                      \r"
     ]
    },
    {
     "name": "stdout",
     "output_type": "stream",
     "text": [
      "Epoch 30: train_loss=0.3289 train_acc=0.8861 val_loss=0.4118 val_acc=0.8586\n"
     ]
    },
    {
     "name": "stderr",
     "output_type": "stream",
     "text": [
      "                                                                      \r"
     ]
    },
    {
     "name": "stdout",
     "output_type": "stream",
     "text": [
      "Epoch 31: train_loss=0.3304 train_acc=0.8867 val_loss=0.4766 val_acc=0.8386\n"
     ]
    },
    {
     "name": "stderr",
     "output_type": "stream",
     "text": [
      "                                                                      \r"
     ]
    },
    {
     "name": "stdout",
     "output_type": "stream",
     "text": [
      "Epoch 32: train_loss=0.3259 train_acc=0.8877 val_loss=0.4377 val_acc=0.8554\n"
     ]
    },
    {
     "name": "stderr",
     "output_type": "stream",
     "text": [
      "                                                                      \r"
     ]
    },
    {
     "name": "stdout",
     "output_type": "stream",
     "text": [
      "Epoch 33: train_loss=0.3210 train_acc=0.8882 val_loss=0.4394 val_acc=0.8540\n"
     ]
    },
    {
     "name": "stderr",
     "output_type": "stream",
     "text": [
      "                                                                      \r"
     ]
    },
    {
     "name": "stdout",
     "output_type": "stream",
     "text": [
      "Epoch 34: train_loss=0.3163 train_acc=0.8902 val_loss=0.5029 val_acc=0.8328\n"
     ]
    },
    {
     "name": "stderr",
     "output_type": "stream",
     "text": [
      "                                                                      \r"
     ]
    },
    {
     "name": "stdout",
     "output_type": "stream",
     "text": [
      "Epoch 35: train_loss=0.3138 train_acc=0.8916 val_loss=0.4087 val_acc=0.8594\n"
     ]
    },
    {
     "name": "stderr",
     "output_type": "stream",
     "text": [
      "                                                                      \r"
     ]
    },
    {
     "name": "stdout",
     "output_type": "stream",
     "text": [
      "Epoch 36: train_loss=0.3124 train_acc=0.8928 val_loss=0.4723 val_acc=0.8390\n"
     ]
    },
    {
     "name": "stderr",
     "output_type": "stream",
     "text": [
      "                                                                      \r"
     ]
    },
    {
     "name": "stdout",
     "output_type": "stream",
     "text": [
      "Epoch 37: train_loss=0.3081 train_acc=0.8942 val_loss=0.4517 val_acc=0.8480\n"
     ]
    },
    {
     "name": "stderr",
     "output_type": "stream",
     "text": [
      "                                                                      \r"
     ]
    },
    {
     "name": "stdout",
     "output_type": "stream",
     "text": [
      "Epoch 38: train_loss=0.3069 train_acc=0.8938 val_loss=0.4655 val_acc=0.8452\n"
     ]
    },
    {
     "name": "stderr",
     "output_type": "stream",
     "text": [
      "                                                                      \r"
     ]
    },
    {
     "name": "stdout",
     "output_type": "stream",
     "text": [
      "Epoch 39: train_loss=0.3060 train_acc=0.8936 val_loss=0.4421 val_acc=0.8532\n"
     ]
    },
    {
     "name": "stderr",
     "output_type": "stream",
     "text": [
      "                                                                      \r"
     ]
    },
    {
     "name": "stdout",
     "output_type": "stream",
     "text": [
      "Epoch 40: train_loss=0.2987 train_acc=0.8970 val_loss=0.4433 val_acc=0.8566\n"
     ]
    },
    {
     "name": "stderr",
     "output_type": "stream",
     "text": [
      "Test (clean): 100%|██████████| 40/40 [00:09<00:00,  4.20it/s]"
     ]
    },
    {
     "name": "stdout",
     "output_type": "stream",
     "text": [
      "\n",
      "✅ Clean Test Accuracy (Baseline φ′+g′): 87.03% | Saved best checkpoint to checkpoints/baseline_best.pt\n"
     ]
    },
    {
     "name": "stderr",
     "output_type": "stream",
     "text": [
      "\n"
     ]
    }
   ],
   "source": [
    "# === Block 3: Baseline Training (φ′ + g′) ===\n",
    "# --------------------------------------------------------------\n",
    "# Train the baseline CNN classifier as in §5.1 and §5.2.\n",
    "# This will later provide the retrieval feature extractor φ′.\n",
    "# --------------------------------------------------------------\n",
    "\n",
    "import copy\n",
    "from torch.optim import Adam\n",
    "from torch.cuda.amp import GradScaler, autocast\n",
    "from tqdm import tqdm\n",
    "\n",
    "# --------------------------------------------------------------\n",
    "# Hyperparameters & setup\n",
    "# --------------------------------------------------------------\n",
    "EPOCHS = CONFIG[\"baseline\"][\"epochs\"]\n",
    "LR      = CONFIG[\"baseline\"][\"lr\"]\n",
    "WD      = CONFIG[\"baseline\"][\"wd\"]\n",
    "BATCH   = CONFIG[\"baseline\"][\"batch_size\"]\n",
    "PATIENCE= CONFIG[\"baseline\"][\"early_patience\"]\n",
    "MIN_E   = CONFIG[\"baseline\"][\"min_epochs\"]\n",
    "\n",
    "criterion = nn.CrossEntropyLoss()\n",
    "optimizer = Adam(baseline_model.parameters(), lr=LR, weight_decay=WD)\n",
    "scaler = GradScaler(enabled=AMP)\n",
    "\n",
    "# simple train/val split (10% val)\n",
    "n_total = len(train_aug_ds)\n",
    "n_val   = int(0.1 * n_total)\n",
    "n_train = n_total - n_val\n",
    "train_ds, val_ds = torch.utils.data.random_split(train_aug_ds, [n_train, n_val])\n",
    "train_loader = DataLoader(train_ds, batch_size=BATCH, shuffle=True,  num_workers=4, pin_memory=True)\n",
    "val_loader   = DataLoader(val_ds,   batch_size=BATCH, shuffle=False, num_workers=4, pin_memory=True)\n",
    "\n",
    "print(f\"Training on {len(train_ds)} images, validating on {len(val_ds)} images.\")\n",
    "\n",
    "# --------------------------------------------------------------\n",
    "# Utility: accuracy function\n",
    "# --------------------------------------------------------------\n",
    "def accuracy_fn(logits, targets):\n",
    "    preds = logits.argmax(dim=1)\n",
    "    return (preds == targets).float().mean().item()\n",
    "\n",
    "# --------------------------------------------------------------\n",
    "# Training loop with early stopping and checkpoint\n",
    "# --------------------------------------------------------------\n",
    "best_val_acc = 0.0\n",
    "best_model_wts = copy.deepcopy(baseline_model.state_dict())\n",
    "epochs_no_improve = 0\n",
    "\n",
    "for epoch in range(1, EPOCHS+1):\n",
    "    baseline_model.train()\n",
    "    train_loss, train_acc = 0.0, 0.0\n",
    "\n",
    "    for imgs, labels in tqdm(train_loader, desc=f\"[Epoch {epoch}/{EPOCHS}] Train\", leave=False):\n",
    "        imgs, labels = imgs.to(DEVICE), labels.to(DEVICE)\n",
    "        optimizer.zero_grad(set_to_none=True)\n",
    "\n",
    "        with autocast(enabled=AMP):\n",
    "            outputs = baseline_model(imgs)\n",
    "            loss = criterion(outputs, labels)\n",
    "\n",
    "        scaler.scale(loss).backward()\n",
    "        scaler.step(optimizer)\n",
    "        scaler.update()\n",
    "\n",
    "        train_loss += loss.item() * imgs.size(0)\n",
    "        train_acc  += accuracy_fn(outputs, labels) * imgs.size(0)\n",
    "\n",
    "    train_loss /= len(train_loader.dataset)\n",
    "    train_acc  /= len(train_loader.dataset)\n",
    "\n",
    "    # -------------------- Validation --------------------\n",
    "    baseline_model.eval()\n",
    "    val_loss, val_acc = 0.0, 0.0\n",
    "    with torch.no_grad():\n",
    "        for imgs, labels in tqdm(val_loader, desc=f\"[Epoch {epoch}] Val\", leave=False):\n",
    "            imgs, labels = imgs.to(DEVICE), labels.to(DEVICE)\n",
    "            with autocast(enabled=AMP):\n",
    "                outputs = baseline_model(imgs)\n",
    "                loss = criterion(outputs, labels)\n",
    "\n",
    "            val_loss += loss.item() * imgs.size(0)\n",
    "            val_acc  += accuracy_fn(outputs, labels) * imgs.size(0)\n",
    "\n",
    "    val_loss /= len(val_loader.dataset)\n",
    "    val_acc  /= len(val_loader.dataset)\n",
    "\n",
    "    print(f\"Epoch {epoch:02d}: train_loss={train_loss:.4f} \"\n",
    "          f\"train_acc={train_acc:.4f} val_loss={val_loss:.4f} val_acc={val_acc:.4f}\")\n",
    "\n",
    "    # -------------------- Early stopping --------------------\n",
    "    if val_acc > best_val_acc:\n",
    "        best_val_acc = val_acc\n",
    "        best_model_wts = copy.deepcopy(baseline_model.state_dict())\n",
    "        epochs_no_improve = 0\n",
    "        torch.save(best_model_wts, CHECKPOINTS / \"baseline_best.pt\")\n",
    "    else:\n",
    "        epochs_no_improve += 1\n",
    "\n",
    "    if epoch > MIN_E and epochs_no_improve >= PATIENCE:\n",
    "        print(f\"⏹ Early stopping at epoch {epoch} (no improvement for {PATIENCE} epochs).\")\n",
    "        break\n",
    "\n",
    "# --------------------------------------------------------------\n",
    "# Load best weights and evaluate on clean test set (§5.2)\n",
    "# --------------------------------------------------------------\n",
    "baseline_model.load_state_dict(best_model_wts)\n",
    "baseline_model.eval()\n",
    "test_acc = 0.0\n",
    "with torch.no_grad():\n",
    "    for imgs, labels in tqdm(test_loader, desc=\"Test (clean)\"):\n",
    "        imgs, labels = imgs.to(DEVICE), labels.to(DEVICE)\n",
    "        outputs = baseline_model(imgs)\n",
    "        test_acc += accuracy_fn(outputs, labels) * imgs.size(0)\n",
    "\n",
    "test_acc /= len(test_loader.dataset)\n",
    "print(f\"\\n✅ Clean Test Accuracy (Baseline φ′+g′): {test_acc*100:.2f}% \"\n",
    "      f\"| Saved best checkpoint to checkpoints/baseline_best.pt\")\n"
   ]
  },
  {
   "cell_type": "code",
   "execution_count": 12,
   "id": "09f98273",
   "metadata": {},
   "outputs": [
    {
     "name": "stdout",
     "output_type": "stream",
     "text": [
      "odict_keys(['feature_extractor.c1.0.weight', 'feature_extractor.c1.0.bias', 'feature_extractor.c1.1.weight', 'feature_extractor.c1.1.bias', 'feature_extractor.c1.1.running_mean', 'feature_extractor.c1.1.running_var', 'feature_extractor.c1.1.num_batches_tracked', 'feature_extractor.c2.0.weight', 'feature_extractor.c2.0.bias', 'feature_extractor.c2.1.weight', 'feature_extractor.c2.1.bias', 'feature_extractor.c2.1.running_mean', 'feature_extractor.c2.1.running_var', 'feature_extractor.c2.1.num_batches_tracked', 'feature_extractor.c3.0.weight', 'feature_extractor.c3.0.bias', 'feature_extractor.c3.1.weight', 'feature_extractor.c3.1.bias', 'feature_extractor.c3.1.running_mean', 'feature_extractor.c3.1.running_var', 'feature_extractor.c3.1.num_batches_tracked', 'feature_extractor.c4.0.weight', 'feature_extractor.c4.0.bias', 'feature_extractor.c4.1.weight', 'feature_extractor.c4.1.bias', 'feature_extractor.c4.1.running_mean', 'feature_extractor.c4.1.running_var', 'feature_extractor.c4.1.num_batches_tracked', 'feature_extractor.c5.0.weight', 'feature_extractor.c5.0.bias', 'feature_extractor.c5.1.weight', 'feature_extractor.c5.1.bias', 'feature_extractor.c5.1.running_mean', 'feature_extractor.c5.1.running_var', 'feature_extractor.c5.1.num_batches_tracked', 'feature_extractor.c6.0.weight', 'feature_extractor.c6.0.bias', 'feature_extractor.c6.1.weight', 'feature_extractor.c6.1.bias', 'feature_extractor.c6.1.running_mean', 'feature_extractor.c6.1.running_var', 'feature_extractor.c6.1.num_batches_tracked', 'classifier.classifier.0.weight', 'classifier.classifier.0.bias', 'classifier.classifier.1.weight', 'classifier.classifier.1.bias', 'classifier.classifier.1.running_mean', 'classifier.classifier.1.running_var', 'classifier.classifier.1.num_batches_tracked', 'classifier.classifier.3.weight', 'classifier.classifier.3.bias'])\n"
     ]
    }
   ],
   "source": [
    "ckpt = torch.load(CHECKPOINTS / \"baseline_best.pt\", map_location=\"cpu\")\n",
    "print(ckpt.keys())"
   ]
  },
  {
   "cell_type": "code",
   "execution_count": 13,
   "id": "617f9066",
   "metadata": {},
   "outputs": [
    {
     "name": "stdout",
     "output_type": "stream",
     "text": [
      "✅ Loaded φ′ (frozen) for retrieval engine\n"
     ]
    },
    {
     "name": "stderr",
     "output_type": "stream",
     "text": [
      "Embedding D′: 100%|███████████████████████████████████████████████| 196/196 [00:13<00:00, 14.98it/s]\n"
     ]
    },
    {
     "name": "stdout",
     "output_type": "stream",
     "text": [
      "📊 Feature matrix: torch.Size([50000, 3072])\n",
      "📈 Feature stats (not normalized):\n",
      "  mean=-0.001, std=0.217\n",
      "  norms=[10.607146263122559, 14.2576265335083, 10.187411308288574, 10.473434448242188, 17.82314682006836]\n",
      "✅ FAISS index ready: 50000 vectors dim=3072\n",
      "💾 Saved retrieval artifacts\n"
     ]
    }
   ],
   "source": [
    "import faiss\n",
    "from tqdm import tqdm\n",
    "\n",
    "# ----------------------------\n",
    "# 1️⃣ Load Pretrained Feature Extractor φ′\n",
    "# (from baseline CNN weights)\n",
    "# ----------------------------\n",
    "baseline_ckpt = torch.load(CHECKPOINTS / \"baseline_best.pt\", map_location=DEVICE)\n",
    "\n",
    "# Extract only feature extractor weights (φ′)\n",
    "phi_prime_dict = {\n",
    "    k.replace(\"feature_extractor.\", \"\"): v\n",
    "    for k, v in baseline_ckpt.items()\n",
    "    if k.startswith(\"feature_extractor.\")\n",
    "}\n",
    "\n",
    "phi_prime = FeatureExtractor().to(DEVICE)\n",
    "phi_prime.load_state_dict(phi_prime_dict, strict=False)\n",
    "phi_prime.eval()\n",
    "for p in phi_prime.parameters():\n",
    "    p.requires_grad = False\n",
    "\n",
    "print(\"✅ Loaded φ′ (frozen) for retrieval engine\")\n",
    "\n",
    "# ----------------------------\n",
    "# 2️⃣ Embed all clean training images (D′) using φ′\n",
    "# No normalization — RaCNN uses raw features\n",
    "# ----------------------------\n",
    "all_feats, all_labels = [], []\n",
    "\n",
    "with torch.no_grad():\n",
    "    for imgs, labels in tqdm(train_plain_loader, desc=\"Embedding D′\", ncols=100):\n",
    "        imgs = imgs.to(DEVICE)\n",
    "        feats = phi_prime(imgs)                 # [B,192,4,4]\n",
    "        feats = feats.view(feats.size(0), -1)   # ✅ flatten → [B,3072]\n",
    "        all_feats.append(feats.cpu())\n",
    "        all_labels.append(labels)\n",
    "\n",
    "all_feats  = torch.cat(all_feats)\n",
    "all_labels = torch.cat(all_labels)\n",
    "\n",
    "print(f\"📊 Feature matrix: {all_feats.shape}\")  # expect [N,3072]\n",
    "\n",
    "# Diagnostics\n",
    "print(\"📈 Feature stats (not normalized):\")\n",
    "print(f\"  mean={all_feats.mean():.3f}, std={all_feats.std():.3f}\")\n",
    "print(f\"  norms={torch.norm(all_feats[:5], p=2, dim=1).tolist()}\")\n",
    "\n",
    "# ----------------------------\n",
    "# 3️⃣ Build FAISS L2 Index on φ′(D′)\n",
    "# ----------------------------\n",
    "d = all_feats.shape[1]  # 3072\n",
    "res = faiss.StandardGpuResources()\n",
    "\n",
    "index_cpu = faiss.IndexFlatL2(d)\n",
    "index_gpu = faiss.index_cpu_to_gpu(res, 0, index_cpu)\n",
    "\n",
    "index_gpu.add(all_feats.numpy().astype(\"float32\"))\n",
    "\n",
    "print(f\"✅ FAISS index ready: {index_gpu.ntotal} vectors dim={d}\")\n",
    "\n",
    "# ----------------------------\n",
    "# 4️⃣ Save artifacts for future use\n",
    "# ----------------------------\n",
    "torch.save(all_feats, ARTIFACTS / \"features_train_plain.pt\")\n",
    "torch.save(all_labels, ARTIFACTS / \"labels_train_plain.pt\")\n",
    "faiss.write_index(\n",
    "    faiss.index_gpu_to_cpu(index_gpu),\n",
    "    str(ARTIFACTS / \"faiss_index_cpu.bin\")\n",
    ")\n",
    "print(\"💾 Saved retrieval artifacts\")\n"
   ]
  },
  {
   "cell_type": "code",
   "execution_count": 14,
   "id": "b62111f5",
   "metadata": {},
   "outputs": [
    {
     "name": "stdout",
     "output_type": "stream",
     "text": [
      "✅ Retrieval OK: torch.Size([2, 5]) torch.Size([2, 5])\n"
     ]
    }
   ],
   "source": [
    "# ----------------------------\n",
    "# 5️⃣ Retrieval Engine — returns indices, not features\n",
    "# ----------------------------\n",
    "class RetrievalEngine:\n",
    "    def __init__(self, phi_prime, faiss_index, dataset, labels):\n",
    "        self.phi_prime = phi_prime.eval()\n",
    "        self.index = faiss_index\n",
    "        self.dataset = dataset   # ✅ exact dataset used to build FAISS\n",
    "        self.labels = labels\n",
    "        for p in phi_prime.parameters():\n",
    "            p.requires_grad = False\n",
    "\n",
    "    def retrieve(self, x, K=5):\n",
    "        with torch.no_grad():\n",
    "            device = next(self.phi_prime.parameters()).device\n",
    "            x = x.to(device, non_blocking=True)\n",
    "            \n",
    "            q = self.phi_prime(x).view(x.size(0), -1)\n",
    "            q_np = q.detach().cpu().numpy().astype(\"float32\")\n",
    "\n",
    "            _, I = self.index.search(q_np, K)\n",
    "\n",
    "            indices = torch.from_numpy(I).long()\n",
    "            neigh_labels = self.labels[indices]\n",
    "            return indices, neigh_labels\n",
    "\n",
    "\n",
    "    def fetch_neighbors(self, indices, device):\n",
    "        imgs = []\n",
    "        for idx in indices.reshape(-1):\n",
    "            img, _ = self.dataset[idx.item()]  # ✅ consistent ordering\n",
    "            imgs.append(img)\n",
    "        return torch.stack(imgs).to(device, non_blocking=True)\n",
    "\n",
    "\n",
    "retr_engine = RetrievalEngine(\n",
    "    phi_prime,\n",
    "    index_gpu,\n",
    "    train_plain_ds,   # ✅ exact D′\n",
    "    all_labels\n",
    ")\n",
    "\n",
    "imgs, _ = next(iter(test_loader))\n",
    "inds, labs = retr_engine.retrieve(imgs[:2], K=5)\n",
    "print(\"✅ Retrieval OK:\", inds.shape, labs.shape)\n"
   ]
  },
  {
   "cell_type": "code",
   "execution_count": 15,
   "id": "b9cb97ec",
   "metadata": {},
   "outputs": [],
   "source": [
    "class RaCNN(nn.Module):\n",
    "    def __init__(self, retrieval_engine, num_classes=10, K=5):\n",
    "        super().__init__()\n",
    "        self.retrieval_engine = retrieval_engine\n",
    "        self.K = K\n",
    "\n",
    "        # φ: trainable feature extractor producing fmap [B,192,4,4]\n",
    "        self.phi = FeatureExtractor()\n",
    "\n",
    "        # U: Conv attention layer (192→256 via 4×4 conv)\n",
    "        self.U = AttentionU()  # outputs [B,256]\n",
    "\n",
    "        # g: Classifier head (256 → 64 → 10)\n",
    "        self.g = Classifier(in_dim=256, num_classes=num_classes)\n",
    "\n",
    "    def forward(self, x, return_attention=False):\n",
    "        B = x.size(0)\n",
    "        device = x.device\n",
    "\n",
    "        # 1️⃣ Retrieve neighbors via φ'\n",
    "        indices, neigh_labels = self.retrieval_engine.retrieve(x, K=self.K)\n",
    "        neigh_labels = neigh_labels.to(device)\n",
    "\n",
    "        # 2️⃣ Fetch images [B*K,3,32,32]\n",
    "        #neigh_imgs = self.retrieval_engine.fetch_neighbors(indices).to(device)\n",
    "        neigh_imgs = self.retrieval_engine.fetch_neighbors(indices, device)\n",
    "\n",
    "\n",
    "        # 3️⃣ Re-embed using trainable φ → fmap\n",
    "        z_fmap = self.phi(x)                           # [B,192,4,4]\n",
    "        neigh_fmap = self.phi(neigh_imgs)              # [B*K,192,4,4]\n",
    "        neigh_fmap = neigh_fmap.view(B, self.K, 192, 4, 4)\n",
    "\n",
    "        # Map to 256-D attention space\n",
    "        q = self.U(z_fmap)                             # [B,256]\n",
    "        neigh_feats = self.U(neigh_fmap.view(-1,192,4,4))  # [B*K,256]\n",
    "        neigh_feats = neigh_feats.view(B, self.K, 256)     # [B,K,256]\n",
    "\n",
    "        # 4️⃣ Attention: βk = dot(neigh, q)\n",
    "        beta = torch.einsum('bkd,bd->bk', neigh_feats, q)\n",
    "\n",
    "        # 5️⃣ αk = softmax(βk)\n",
    "        alpha = F.softmax(beta, dim=1)\n",
    "\n",
    "        # 6️⃣ Projected feature: Σ αk * neigh_k\n",
    "        projected = torch.einsum('bk,bkd->bd', alpha, neigh_feats)  # [B,256]\n",
    "\n",
    "        # 7️⃣ Classify\n",
    "        logits = self.g(projected)\n",
    "\n",
    "        if return_attention:\n",
    "            return logits, alpha, beta, neigh_feats, neigh_labels\n",
    "        return logits\n"
   ]
  },
  {
   "cell_type": "code",
   "execution_count": 16,
   "id": "8417172f",
   "metadata": {},
   "outputs": [],
   "source": [
    "def sample_simplex_kraemer(K):\n",
    "    samples = np.random.uniform(0, 1, K-1)\n",
    "    samples = np.concatenate([[0], samples, [1]])\n",
    "    samples = np.sort(samples)\n",
    "    return np.diff(samples)\n",
    "\n",
    "\n",
    "def local_mixup(neigh_feats, neigh_labels, num_classes=10):\n",
    "    \"\"\"\n",
    "    Paper Section 2.3:\n",
    "    \"sample αk uniformly... to create (Σ αk φ(x'k), Σ αk y'k)\"\n",
    "    \n",
    "    Here φ(x'k) are the re-embedded features (in trainable φ-space)\n",
    "    \"\"\"\n",
    "    B, K, D = neigh_feats.shape\n",
    "    device = neigh_feats.device\n",
    "    \n",
    "    alpha_list = [torch.FloatTensor(sample_simplex_kraemer(K)) for _ in range(B)]\n",
    "    alpha = torch.stack(alpha_list).to(device)\n",
    "    \n",
    "    mix_feats = torch.einsum('bk,bkd->bd', alpha, neigh_feats)\n",
    "    \n",
    "    onehot = F.one_hot(neigh_labels, num_classes=num_classes).float()\n",
    "    mix_labels = torch.einsum('bk,bkc->bc', alpha, onehot)\n",
    "    \n",
    "    return mix_feats, mix_labels"
   ]
  },
  {
   "cell_type": "code",
   "execution_count": 17,
   "id": "081d8fb6",
   "metadata": {},
   "outputs": [],
   "source": [
    "# === Block 5-C — RaCNN Training Loop (FINAL CORRECT VERSION) ===\n",
    "import copy\n",
    "from torch.cuda.amp import GradScaler\n",
    "from tqdm import tqdm\n",
    "\n",
    "def train_racnn_k5(model, train_loader, val_loader, optimizer,\n",
    "                   epochs=30, NMU=5, NCE=1, AMP=True,\n",
    "                   min_epochs=10, patience=6, device=\"cuda\",\n",
    "                   checkpoints_dir=None):\n",
    "\n",
    "    scaler = GradScaler(enabled=AMP)\n",
    "    best_val_acc = 0.0\n",
    "    best_weights = copy.deepcopy(model.state_dict())\n",
    "    epochs_no_improve = 0\n",
    "\n",
    "    for epoch in range(1, epochs + 1):\n",
    "        model.train()\n",
    "        total_loss, total_correct, total_seen = 0.0, 0, 0\n",
    "\n",
    "        pbar = tqdm(train_loader, desc=f\"[Epoch {epoch}/{epochs}] Train\", ncols=100)\n",
    "        for imgs, labels in pbar:\n",
    "            imgs, labels = imgs.to(device), labels.to(device)\n",
    "            B = imgs.size(0)\n",
    "\n",
    "            # ===================== NCE Step =====================\n",
    "            for _ in range(NCE):\n",
    "                optimizer.zero_grad(set_to_none=True)\n",
    "\n",
    "                with torch.cuda.amp.autocast(enabled=AMP):\n",
    "                    logits = model(imgs)\n",
    "                    loss_cls = F.cross_entropy(logits, labels)\n",
    "\n",
    "                scaler.scale(loss_cls).backward()\n",
    "                scaler.unscale_(optimizer)\n",
    "                torch.nn.utils.clip_grad_norm_(model.parameters(), max_norm=1.0)\n",
    "                scaler.step(optimizer)\n",
    "                scaler.update()\n",
    "\n",
    "                total_seen += B\n",
    "                total_loss += loss_cls.item() * B\n",
    "                total_correct += (logits.argmax(1) == labels).sum().item()\n",
    "\n",
    "            # ===================== NMU Step: Local Mixup =====================\n",
    "            for _ in range(NMU):\n",
    "                optimizer.zero_grad(set_to_none=True)\n",
    "\n",
    "                # Fresh retrieval using φ′\n",
    "                with torch.no_grad():\n",
    "                    inds, neigh_labels = model.retrieval_engine.retrieve(imgs, K=model.K)\n",
    "                    neigh_labels = neigh_labels.to(device)\n",
    "\n",
    "                    #neigh_imgs = model.retrieval_engine.fetch_neighbors(inds)\n",
    "                    #neigh_imgs = neigh_imgs.to(device)  # [B*K,3,32,32]\n",
    "                    neigh_imgs = model.retrieval_engine.fetch_neighbors(inds, device)\n",
    "\n",
    "                # Re-embed neighbors with trainable φ\n",
    "                neigh_fmap = model.phi(neigh_imgs)                      # [B*K,192,4,4]\n",
    "                neigh_feats = model.U(neigh_fmap).view(B, model.K, -1)  # [B,K,256]\n",
    "\n",
    "                # Local Mixup inside feature-space convex hull\n",
    "                mix_feats, mix_labels = local_mixup(neigh_feats, neigh_labels)  # soft labels\n",
    "\n",
    "                with torch.cuda.amp.autocast(enabled=AMP):\n",
    "                    logits_mix = model.g(mix_feats)\n",
    "\n",
    "                    # Soft-label loss (MixUp)\n",
    "                    loss_mix = F.kl_div(\n",
    "                        F.log_softmax(logits_mix, dim=1),\n",
    "                        mix_labels,\n",
    "                        reduction=\"batchmean\"\n",
    "                    )\n",
    "\n",
    "                scaler.scale(loss_mix).backward()\n",
    "                scaler.unscale_(optimizer)\n",
    "                torch.nn.utils.clip_grad_norm_(model.parameters(), max_norm=1.0)\n",
    "                scaler.step(optimizer)\n",
    "                scaler.update()\n",
    "\n",
    "            pbar.set_postfix({\n",
    "                'loss': f\"{total_loss / total_seen:.4f}\",\n",
    "                'acc': f\"{100 * total_correct / total_seen:.2f}%\"\n",
    "            })\n",
    "\n",
    "        # ===================== Validation =====================\n",
    "        model.eval()\n",
    "        val_loss, val_correct, val_seen = 0.0, 0, 0\n",
    "\n",
    "        with torch.no_grad(), torch.cuda.amp.autocast(enabled=AMP):\n",
    "            for imgs, labels in val_loader:\n",
    "                imgs, labels = imgs.to(device), labels.to(device)\n",
    "                logits = model(imgs)\n",
    "                loss = F.cross_entropy(logits, labels)\n",
    "                val_loss += loss.item() * imgs.size(0)\n",
    "                val_correct += (logits.argmax(1) == labels).sum().item()\n",
    "                val_seen += imgs.size(0)\n",
    "\n",
    "        val_loss /= val_seen\n",
    "        val_acc = val_correct / val_seen\n",
    "\n",
    "        print(f\"Epoch {epoch:02d} | \"\n",
    "              f\"TrainAcc={100*total_correct/total_seen:.2f}% | \"\n",
    "              f\"ValAcc={100*val_acc:.2f}%\")\n",
    "\n",
    "        # ===================== Checkpoint =====================\n",
    "        if val_acc > best_val_acc:\n",
    "            best_val_acc = val_acc\n",
    "            best_weights = copy.deepcopy(model.state_dict())\n",
    "            epochs_no_improve = 0\n",
    "\n",
    "            if checkpoints_dir:\n",
    "                torch.save(best_weights, checkpoints_dir / \"racnn_best.pt\")\n",
    "                print(\"  ✅ Saved new best model\")\n",
    "        else:\n",
    "            epochs_no_improve += 1\n",
    "\n",
    "        if epoch > min_epochs and epochs_no_improve >= patience:\n",
    "            print(f\"⏹ Early stopping @ epoch {epoch}\")\n",
    "            break\n",
    "\n",
    "    model.load_state_dict(best_weights)\n",
    "    print(f\"✅ Finished. Best Val Accuracy: {100*best_val_acc:.2f}%\")\n",
    "    return model\n"
   ]
  },
  {
   "cell_type": "code",
   "execution_count": 18,
   "id": "8ee8b74d",
   "metadata": {},
   "outputs": [
    {
     "name": "stdout",
     "output_type": "stream",
     "text": [
      "✅ RaCNN model ready to train.\n"
     ]
    }
   ],
   "source": [
    "K = 5\n",
    "\n",
    "racnn_model = RaCNN(\n",
    "    retrieval_engine=retr_engine,\n",
    "    num_classes=10,\n",
    "    K=K\n",
    ").to(DEVICE)\n",
    "\n",
    "optimizer_racnn = torch.optim.Adam(\n",
    "    racnn_model.parameters(),\n",
    "    lr=CONFIG[\"racnn\"][\"lr\"],\n",
    "    weight_decay=CONFIG[\"racnn\"][\"wd\"]\n",
    ")\n",
    "\n",
    "print(\"✅ RaCNN model ready to train.\")"
   ]
  },
  {
   "cell_type": "code",
   "execution_count": 19,
   "id": "6d7ee4df",
   "metadata": {},
   "outputs": [
    {
     "name": "stdout",
     "output_type": "stream",
     "text": [
      "Training RaCNN on 45000 images, validating on 5000 images.\n"
     ]
    }
   ],
   "source": [
    "n_total = len(train_aug_ds)\n",
    "n_val = int(0.1 * n_total)\n",
    "n_train = n_total - n_val\n",
    "\n",
    "torch.manual_seed(SEED)\n",
    "train_ds, val_ds = torch.utils.data.random_split(train_aug_ds, [n_train, n_val])\n",
    "\n",
    "train_loader = DataLoader(train_ds, batch_size=128, shuffle=True, num_workers=4, pin_memory=True)\n",
    "val_loader = DataLoader(val_ds, batch_size=128, shuffle=False, num_workers=4, pin_memory=True)\n",
    "\n",
    "print(f\"Training RaCNN on {len(train_ds)} images, validating on {len(val_ds)} images.\")\n",
    "\n",
    "\n",
    "# === Train RaCNN ===\n",
    "# trained_racnn = train_racnn_k5(\n",
    "#     model=racnn_model,\n",
    "#     train_loader=train_loader,\n",
    "#     val_loader=val_loader,\n",
    "#     optimizer=optimizer_racnn,\n",
    "#     epochs=CONFIG[\"racnn\"][\"epochs\"],\n",
    "#     NMU=CONFIG[\"mixup\"][\"NMU\"],\n",
    "#     NCE=CONFIG[\"mixup\"][\"NCE\"],      # ✅ include NCE hyperparam!\n",
    "#     AMP=True,\n",
    "#     min_epochs=CONFIG[\"racnn\"][\"min_epochs\"],\n",
    "#     patience=CONFIG[\"racnn\"][\"early_patience\"],\n",
    "#     device=DEVICE,\n",
    "#     checkpoints_dir=CHECKPOINTS      # ✅ recommended\n",
    "# )\n",
    "\n",
    "# print(\"✅ RaCNN training complete!\")"
   ]
  },
  {
   "cell_type": "code",
   "execution_count": 21,
   "id": "057d39f2",
   "metadata": {},
   "outputs": [
    {
     "name": "stdout",
     "output_type": "stream",
     "text": [
      "🔍 Verifying RaCNN Implementation...\n",
      "\n",
      "1️⃣ Testing Feature Extractor Dimensions...\n",
      "   ✅ Feature extractor outputs correct shape: torch.Size([2, 3072])\n",
      "\n",
      "2️⃣ Testing φ' matches baseline feature extractor...\n",
      "   ✅ φ' matches baseline (max diff: 0.00e+00)\n",
      "\n",
      "3️⃣ Testing feature normalization consistency...\n",
      "   ✅ Features are L2-normalized (norms: [1.0, 1.0])\n",
      "   ✅ Retrieved features are L2-normalized (mean norm: 1.0000)\n",
      "\n",
      "4️⃣ Testing RaCNN forward pass...\n",
      "   ✅ RaCNN forward pass successful\n",
      "      - logits: torch.Size([2, 10])\n",
      "      - alpha sums to 1: [1.0, 0.9999999403953552]\n",
      "      - neighbors: torch.Size([2, 5, 3072])\n",
      "\n",
      "5️⃣ Testing local mixup...\n",
      "   ✅ Local mixup successful\n",
      "      - mix_feats: torch.Size([2, 3072])\n",
      "      - mix_labels sum to 1: [1.0, 1.0]\n",
      "\n",
      "6️⃣ Testing soft label loss calculation...\n",
      "   ✅ Soft label loss calculation correct: 2.4761\n",
      "   ✅ Backward pass successful (grad computed)\n",
      "\n",
      "7️⃣ Verifying data splits...\n",
      "   Training set size: 45000 images\n",
      "   Validation set size: 5000 images\n",
      "   Test set size: 10000 images\n",
      "   ✅ Data splits are correct (90/10 split)\n",
      "   ✅ Validation set is separate from test set\n",
      "\n",
      "8️⃣ Testing normalized L2 calculation...\n",
      "   ✅ Normalized L2 calculation successful\n",
      "      - Sample distances: [5.860981218575034e-06, 5.859913471795153e-06]\n",
      "\n",
      "9️⃣ Checking GPU memory usage...\n",
      "   ✅ GPU Memory: 0.19GB allocated, 1.05GB reserved\n",
      "\n",
      "============================================================\n",
      "✅ ALL VERIFICATIONS PASSED!\n",
      "============================================================\n",
      "\n",
      "📋 Your implementation is ready for training:\n",
      "   1. Feature dimensions: correct (3072)\n",
      "   2. Feature normalization: consistent\n",
      "   3. RaCNN forward pass: working\n",
      "   4. Local mixup: correct\n",
      "   5. Data splits: proper (45k/5k/10k)\n",
      "   6. No data leakage: validation ≠ test\n",
      "\n",
      "🚀 You can now train with confidence!\n"
     ]
    }
   ],
   "source": [
    "# === Complete Verification Script ===\n",
    "# Run this AFTER applying all fixes to verify correctness\n",
    "\n",
    "import torch\n",
    "import torch.nn.functional as F\n",
    "\n",
    "print(\"🔍 Verifying RaCNN Implementation...\\n\")\n",
    "\n",
    "# ==========================================\n",
    "# 1️⃣ Check Feature Dimensions\n",
    "# ==========================================\n",
    "print(\"1️⃣ Testing Feature Extractor Dimensions...\")\n",
    "x_test = torch.randn(2, 3, 32, 32).to(DEVICE)\n",
    "feats = baseline_model.feature_extractor(x_test)\n",
    "expected_dim = 192 * 4 * 4  # = 3072\n",
    "assert feats.shape == (2, expected_dim), f\"❌ Wrong feature dim: {feats.shape} vs expected {(2, expected_dim)}\"\n",
    "print(f\"   ✅ Feature extractor outputs correct shape: {feats.shape}\")\n",
    "\n",
    "# ==========================================\n",
    "# 2️⃣ Check φ' Matches Baseline\n",
    "# ==========================================\n",
    "print(\"\\n2️⃣ Testing φ' matches baseline feature extractor...\")\n",
    "baseline_model.eval()\n",
    "phi.eval()\n",
    "with torch.no_grad():\n",
    "    f1 = baseline_model.feature_extractor(x_test)\n",
    "    f2 = phi(x_test)\n",
    "    max_diff = (f1 - f2).abs().max().item()\n",
    "    assert torch.allclose(f1, f2, atol=1e-5), f\"❌ φ' doesn't match baseline! Max diff: {max_diff}\"\n",
    "print(f\"   ✅ φ' matches baseline (max diff: {max_diff:.2e})\")\n",
    "\n",
    "# ==========================================\n",
    "# 3️⃣ Check Normalization Consistency\n",
    "# ==========================================\n",
    "print(\"\\n3️⃣ Testing feature normalization consistency...\")\n",
    "racnn_model.eval()\n",
    "with torch.no_grad():\n",
    "    # Get features from RaCNN's φ\n",
    "    z = racnn_model.phi(x_test)\n",
    "    z_norm = F.normalize(z, p=2, dim=1)\n",
    "    \n",
    "    # Check they are normalized (L2 norm = 1)\n",
    "    norms = z_norm.norm(p=2, dim=1)\n",
    "    assert torch.allclose(norms, torch.ones(z.size(0)).to(DEVICE), atol=1e-5), \\\n",
    "        f\"❌ Features not normalized! Norms: {norms}\"\n",
    "    print(f\"   ✅ Features are L2-normalized (norms: {norms.tolist()})\")\n",
    "    \n",
    "    # Check retrieved features are also normalized\n",
    "    feats_retrieved, _ = retr_engine.retrieve(x_test, K=5)\n",
    "    retrieved_norms = feats_retrieved.norm(p=2, dim=2).mean()\n",
    "    assert torch.allclose(retrieved_norms, torch.ones(1).to(DEVICE), atol=1e-5), \\\n",
    "        f\"❌ Retrieved features not normalized! Mean norm: {retrieved_norms}\"\n",
    "    print(f\"   ✅ Retrieved features are L2-normalized (mean norm: {retrieved_norms:.4f})\")\n",
    "\n",
    "# ==========================================\n",
    "# 4️⃣ Check RaCNN Forward Pass\n",
    "# ==========================================\n",
    "print(\"\\n4️⃣ Testing RaCNN forward pass...\")\n",
    "racnn_model.eval()\n",
    "with torch.no_grad():\n",
    "    logits, alpha, beta, neigh_feats, neigh_labels = racnn_model(x_test)\n",
    "    \n",
    "    assert logits.shape == (2, 10), f\"❌ Wrong logits shape: {logits.shape}\"\n",
    "    assert alpha.shape == (2, 5), f\"❌ Wrong alpha shape: {alpha.shape}\"\n",
    "    assert beta.shape == (2, 5), f\"❌ Wrong beta shape: {beta.shape}\"\n",
    "    assert neigh_feats.shape == (2, 5, 3072), f\"❌ Wrong neigh_feats shape: {neigh_feats.shape}\"\n",
    "    assert neigh_labels.shape == (2, 5), f\"❌ Wrong neigh_labels shape: {neigh_labels.shape}\"\n",
    "    \n",
    "    # Check alpha sums to 1 (attention weights)\n",
    "    alpha_sums = alpha.sum(dim=1)\n",
    "    assert torch.allclose(alpha_sums, torch.ones(2).to(DEVICE), atol=1e-5), \\\n",
    "        f\"❌ Alpha doesn't sum to 1: {alpha_sums}\"\n",
    "    print(f\"   ✅ RaCNN forward pass successful\")\n",
    "    print(f\"      - logits: {logits.shape}\")\n",
    "    print(f\"      - alpha sums to 1: {alpha_sums.tolist()}\")\n",
    "    print(f\"      - neighbors: {neigh_feats.shape}\")\n",
    "\n",
    "# ==========================================\n",
    "# 5️⃣ Check Local Mixup\n",
    "# ==========================================\n",
    "print(\"\\n5️⃣ Testing local mixup...\")\n",
    "mix_feats, mix_labels = local_mixup(neigh_feats, neigh_labels)\n",
    "assert mix_feats.shape == (2, 3072), f\"❌ Wrong mix_feats shape: {mix_feats.shape}\"\n",
    "assert mix_labels.shape == (2, 10), f\"❌ Wrong mix_labels shape: {mix_labels.shape}\"\n",
    "\n",
    "# Check soft labels sum to 1\n",
    "label_sums = mix_labels.sum(dim=1)\n",
    "assert torch.allclose(label_sums, torch.ones(2).to(DEVICE), atol=1e-5), \\\n",
    "    f\"❌ Mix labels don't sum to 1: {label_sums}\"\n",
    "print(f\"   ✅ Local mixup successful\")\n",
    "print(f\"      - mix_feats: {mix_feats.shape}\")\n",
    "print(f\"      - mix_labels sum to 1: {label_sums.tolist()}\")\n",
    "\n",
    "# ==========================================\n",
    "# 6️⃣ Check Soft Label Loss\n",
    "# ==========================================\n",
    "print(\"\\n6️⃣ Testing soft label loss calculation...\")\n",
    "# Need to ensure we're in training mode for gradients\n",
    "racnn_model.train()\n",
    "\n",
    "# Create a small dummy network to test gradient flow\n",
    "class DummyNet(torch.nn.Module):\n",
    "    def __init__(self):\n",
    "        super().__init__()\n",
    "        self.fc = torch.nn.Linear(10, 10)\n",
    "    def forward(self, x):\n",
    "        return self.fc(x)\n",
    "\n",
    "dummy_net = DummyNet().to(DEVICE)\n",
    "dummy_input = torch.randn(2, 10).to(DEVICE)\n",
    "soft_labels = F.softmax(torch.randn(2, 10).to(DEVICE), dim=1)\n",
    "\n",
    "# Forward pass through dummy network\n",
    "logits_test = dummy_net(dummy_input)\n",
    "loss = -(soft_labels * F.log_softmax(logits_test, dim=1)).sum(dim=1).mean()\n",
    "\n",
    "assert not torch.isnan(loss), \"❌ Loss is NaN\"\n",
    "assert not torch.isinf(loss), \"❌ Loss is Inf\"\n",
    "assert loss.requires_grad, \"❌ Loss doesn't require grad\"\n",
    "\n",
    "# Test backward pass works\n",
    "loss.backward()\n",
    "assert dummy_net.fc.weight.grad is not None, \"❌ Gradients not computed\"\n",
    "print(f\"   ✅ Soft label loss calculation correct: {loss.item():.4f}\")\n",
    "print(f\"   ✅ Backward pass successful (grad computed)\")\n",
    "\n",
    "# Clean up\n",
    "del dummy_net, dummy_input\n",
    "racnn_model.eval()\n",
    "\n",
    "# ==========================================\n",
    "# 7️⃣ Check Data Splits\n",
    "# ==========================================\n",
    "print(\"\\n7️⃣ Verifying data splits...\")\n",
    "print(f\"   Training set size: {len(train_ds)} images\")\n",
    "print(f\"   Validation set size: {len(val_ds)} images\")\n",
    "print(f\"   Test set size: {len(test_ds)} images\")\n",
    "\n",
    "# Verify proportions\n",
    "assert len(train_ds) == 45000, f\"❌ Wrong train size: {len(train_ds)} (expected 45000)\"\n",
    "assert len(val_ds) == 5000, f\"❌ Wrong val size: {len(val_ds)} (expected 5000)\"\n",
    "assert len(test_ds) == 10000, f\"❌ Wrong test size: {len(test_ds)} (expected 10000)\"\n",
    "print(f\"   ✅ Data splits are correct (90/10 split)\")\n",
    "\n",
    "# Verify validation set is NOT test set\n",
    "assert val_ds.dataset != test_ds, \"❌ Validation set should not be test set!\"\n",
    "print(f\"   ✅ Validation set is separate from test set\")\n",
    "\n",
    "# ==========================================\n",
    "# 8️⃣ Check Normalized L2 Metric\n",
    "# ==========================================\n",
    "print(\"\\n8️⃣ Testing normalized L2 calculation...\")\n",
    "x1 = torch.randn(2, 3, 32, 32).to(DEVICE)\n",
    "x2 = x1 + 0.01 * torch.randn_like(x1)\n",
    "nl2 = normalized_l2(x1, x2)\n",
    "assert nl2.shape == (2,), f\"❌ Wrong nl2 shape: {nl2.shape}\"\n",
    "assert (nl2 >= 0).all(), \"❌ Negative L2 distances\"\n",
    "assert (nl2 < 1).all(), \"❌ L2 distances should be < 1 for small perturbations\"\n",
    "print(f\"   ✅ Normalized L2 calculation successful\")\n",
    "print(f\"      - Sample distances: {nl2.tolist()}\")\n",
    "\n",
    "# ==========================================\n",
    "# 9️⃣ Check GPU Memory\n",
    "# ==========================================\n",
    "print(\"\\n9️⃣ Checking GPU memory usage...\")\n",
    "if torch.cuda.is_available():\n",
    "    mem_allocated = torch.cuda.memory_allocated(DEVICE) / 1e9\n",
    "    mem_reserved = torch.cuda.memory_reserved(DEVICE) / 1e9\n",
    "    print(f\"   ✅ GPU Memory: {mem_allocated:.2f}GB allocated, {mem_reserved:.2f}GB reserved\")\n",
    "    if mem_allocated > 10:\n",
    "        print(f\"   ⚠️  Warning: High memory usage, consider reducing batch size\")\n",
    "\n",
    "# ==========================================\n",
    "# 🔟 Summary\n",
    "# ==========================================\n",
    "print(\"\\n\" + \"=\"*60)\n",
    "print(\"✅ ALL VERIFICATIONS PASSED!\")\n",
    "print(\"=\"*60)\n",
    "print(\"\\n📋 Your implementation is ready for training:\")\n",
    "print(\"   1. Feature dimensions: correct (3072)\")\n",
    "print(\"   2. Feature normalization: consistent\")\n",
    "print(\"   3. RaCNN forward pass: working\")\n",
    "print(\"   4. Local mixup: correct\")\n",
    "print(\"   5. Data splits: proper (45k/5k/10k)\")\n",
    "print(\"   6. No data leakage: validation ≠ test\")\n",
    "print(\"\\n🚀 You can now train with confidence!\")"
   ]
  },
  {
   "cell_type": "code",
   "execution_count": 20,
   "id": "b4919662",
   "metadata": {},
   "outputs": [
    {
     "name": "stderr",
     "output_type": "stream",
     "text": [
      "C:\\Users\\User\\AppData\\Local\\Temp\\ipykernel_3204\\1600389758.py:10: FutureWarning: `torch.cuda.amp.autocast(args...)` is deprecated. Please use `torch.amp.autocast('cuda', args...)` instead.\n",
      "  with torch.no_grad(), torch.cuda.amp.autocast(enabled=AMP):\n",
      "Evaluating (clean): 100%|█████████████████████████████████| 40/40 [00:17<00:00,  2.34it/s]"
     ]
    },
    {
     "name": "stdout",
     "output_type": "stream",
     "text": [
      "\n",
      "✅ Clean Test Accuracy (RaCNN K=5): 83.38% | Loss = 0.5749\n",
      "📊 Saved clean evaluation results to E:\\racnn-experiments\\ra-cnn-tanjil\\artifacts\\results_clean.json\n"
     ]
    },
    {
     "name": "stderr",
     "output_type": "stream",
     "text": [
      "\n"
     ]
    }
   ],
   "source": [
    "# === Block 5-D — Evaluate & Save Clean Performance of RaCNN (K=5) ===\n",
    "import json\n",
    "from tqdm import tqdm\n",
    "\n",
    "def evaluate_racnn(model, test_loader, AMP=True):\n",
    "    \"\"\"Evaluates RaCNN on clean test data (only logits required).\"\"\"\n",
    "    model.eval()\n",
    "    total_correct, total_seen, total_loss = 0, 0, 0.0\n",
    "\n",
    "    with torch.no_grad(), torch.cuda.amp.autocast(enabled=AMP):\n",
    "        for imgs, labels in tqdm(test_loader, desc=\"Evaluating (clean)\", ncols=90):\n",
    "            imgs, labels = imgs.to(DEVICE), labels.to(DEVICE)\n",
    "\n",
    "            logits = model(imgs, return_attention=False)  # ✅ Only logits\n",
    "            loss = F.cross_entropy(logits, labels)\n",
    "            preds = logits.argmax(1)\n",
    "\n",
    "            total_correct += (preds == labels).sum().item()\n",
    "            total_seen += labels.size(0)\n",
    "            total_loss += loss.item() * labels.size(0)\n",
    "\n",
    "    avg_loss = total_loss / total_seen\n",
    "    acc = total_correct / total_seen\n",
    "    return {\"accuracy\": acc, \"loss\": avg_loss}\n",
    "\n",
    "\n",
    "# ------------------------------------------------------------\n",
    "# ✅ Load best performing RaCNN checkpoint\n",
    "# ------------------------------------------------------------\n",
    "ckpt_path = CHECKPOINTS / \"racnn_best.pt\"  # ✅ correct name from training\n",
    "racnn_model.load_state_dict(torch.load(ckpt_path, map_location=DEVICE))\n",
    "racnn_model.to(DEVICE)\n",
    "\n",
    "results_k5 = evaluate_racnn(racnn_model, test_loader, AMP=True)\n",
    "\n",
    "print(f\"\\n✅ Clean Test Accuracy (RaCNN K={racnn_model.K}): \"\n",
    "      f\"{results_k5['accuracy']*100:.2f}% | Loss = {results_k5['loss']:.4f}\")\n",
    "\n",
    "\n",
    "# ------------------------------------------------------------\n",
    "# 💾 Save results for later comparison\n",
    "# ------------------------------------------------------------\n",
    "save_path = ARTIFACTS / \"results_clean.json\"\n",
    "\n",
    "try:\n",
    "    with open(save_path, \"r\") as f:\n",
    "        all_results = json.load(f)\n",
    "except FileNotFoundError:\n",
    "    all_results = {}\n",
    "\n",
    "all_results[f\"RaCNN_K{racnn_model.K}_Clean\"] = results_k5\n",
    "\n",
    "with open(save_path, \"w\") as f:\n",
    "    json.dump(all_results, f, indent=4)\n",
    "\n",
    "print(f\"📊 Saved clean evaluation results to {save_path}\")\n"
   ]
  },
  {
   "cell_type": "code",
   "execution_count": 88,
   "id": "e99aa57c",
   "metadata": {},
   "outputs": [
    {
     "name": "stderr",
     "output_type": "stream",
     "text": [
      "                                                                                                    \r"
     ]
    },
    {
     "name": "stdout",
     "output_type": "stream",
     "text": [
      "Baseline     | FGSM_eps0.01    -> 41.34%\n"
     ]
    },
    {
     "name": "stderr",
     "output_type": "stream",
     "text": [
      "                                                                                                    \r"
     ]
    },
    {
     "name": "stdout",
     "output_type": "stream",
     "text": [
      "Baseline     | PGD_eps0.01     -> 28.71%\n"
     ]
    },
    {
     "name": "stderr",
     "output_type": "stream",
     "text": [
      "                                                                                                    \r"
     ]
    },
    {
     "name": "stdout",
     "output_type": "stream",
     "text": [
      "Baseline     | FGSM_eps0.02    -> 36.39%\n"
     ]
    },
    {
     "name": "stderr",
     "output_type": "stream",
     "text": [
      "                                                                                                    \r"
     ]
    },
    {
     "name": "stdout",
     "output_type": "stream",
     "text": [
      "Baseline     | PGD_eps0.02     -> 16.02%\n"
     ]
    },
    {
     "name": "stderr",
     "output_type": "stream",
     "text": [
      "                                                                                                    \r"
     ]
    },
    {
     "name": "stdout",
     "output_type": "stream",
     "text": [
      "Baseline     | FGSM_eps0.04    -> 28.49%\n"
     ]
    },
    {
     "name": "stderr",
     "output_type": "stream",
     "text": [
      "                                                                                                    \r"
     ]
    },
    {
     "name": "stdout",
     "output_type": "stream",
     "text": [
      "Baseline     | PGD_eps0.04     -> 5.25%\n"
     ]
    },
    {
     "name": "stderr",
     "output_type": "stream",
     "text": [
      "                                                                                                    \r"
     ]
    },
    {
     "name": "stdout",
     "output_type": "stream",
     "text": [
      "Baseline     | FGSM_eps0.08    -> 19.28%\n"
     ]
    },
    {
     "name": "stderr",
     "output_type": "stream",
     "text": [
      "                                                                                                    \r"
     ]
    },
    {
     "name": "stdout",
     "output_type": "stream",
     "text": [
      "Baseline     | PGD_eps0.08     -> 1.34%\n"
     ]
    },
    {
     "name": "stderr",
     "output_type": "stream",
     "text": [
      "                                                                                                    \r"
     ]
    },
    {
     "name": "stdout",
     "output_type": "stream",
     "text": [
      "RaCNN-K5     | FGSM_eps0.01    -> 33.23%\n"
     ]
    },
    {
     "name": "stderr",
     "output_type": "stream",
     "text": [
      "[RaCNN-K5 PGD_eps0.01]:   2%|█                                       | 1/40 [00:13<08:32, 13.15s/it]Exception ignored in: <function _MultiProcessingDataLoaderIter.__del__ at 0x000001BE7DCB5000>\n",
      "Traceback (most recent call last):\n",
      "  File \"c:\\Users\\User\\anaconda3\\envs\\torch310\\lib\\site-packages\\torch\\utils\\data\\dataloader.py\", line 1664, in __del__\n",
      "    self._shutdown_workers()\n",
      "  File \"c:\\Users\\User\\anaconda3\\envs\\torch310\\lib\\site-packages\\torch\\utils\\data\\dataloader.py\", line 1622, in _shutdown_workers\n",
      "    if self._persistent_workers or self._workers_status[worker_id]:\n",
      "AttributeError: '_MultiProcessingDataLoaderIter' object has no attribute '_workers_status'\n",
      "                                                                                                    \r"
     ]
    },
    {
     "name": "stdout",
     "output_type": "stream",
     "text": [
      "RaCNN-K5     | PGD_eps0.01     -> 31.08%\n"
     ]
    },
    {
     "name": "stderr",
     "output_type": "stream",
     "text": [
      "                                                                                                    \r"
     ]
    },
    {
     "name": "stdout",
     "output_type": "stream",
     "text": [
      "RaCNN-K5     | FGSM_eps0.02    -> 32.46%\n"
     ]
    },
    {
     "name": "stderr",
     "output_type": "stream",
     "text": [
      "                                                                                                    \r"
     ]
    },
    {
     "name": "stdout",
     "output_type": "stream",
     "text": [
      "RaCNN-K5     | PGD_eps0.02     -> 28.49%\n"
     ]
    },
    {
     "name": "stderr",
     "output_type": "stream",
     "text": [
      "                                                                                                    \r"
     ]
    },
    {
     "name": "stdout",
     "output_type": "stream",
     "text": [
      "RaCNN-K5     | FGSM_eps0.04    -> 30.62%\n"
     ]
    },
    {
     "name": "stderr",
     "output_type": "stream",
     "text": [
      "                                                                                                    \r"
     ]
    },
    {
     "name": "stdout",
     "output_type": "stream",
     "text": [
      "RaCNN-K5     | PGD_eps0.04     -> 23.28%\n"
     ]
    },
    {
     "name": "stderr",
     "output_type": "stream",
     "text": [
      "                                                                                                    \r"
     ]
    },
    {
     "name": "stdout",
     "output_type": "stream",
     "text": [
      "RaCNN-K5     | FGSM_eps0.08    -> 27.90%\n"
     ]
    },
    {
     "name": "stderr",
     "output_type": "stream",
     "text": [
      "                                                                                                    "
     ]
    },
    {
     "name": "stdout",
     "output_type": "stream",
     "text": [
      "RaCNN-K5     | PGD_eps0.08     -> 16.43%\n",
      "\n",
      "✅ Adversarial evaluation complete.\n",
      "📁 Results saved to: E:\\racnn-experiments\\ra-cnn-tanjil\\artifacts\\results_attacks.json\n"
     ]
    },
    {
     "name": "stderr",
     "output_type": "stream",
     "text": [
      "\r"
     ]
    }
   ],
   "source": [
    "# === Block: Adversarial Attack Evaluation (FINAL) ===\n",
    "import torchattacks\n",
    "from tqdm import tqdm\n",
    "import torch.nn as nn\n",
    "import json\n",
    "\n",
    "# ✅ Wrap model to always return logits ONLY\n",
    "# ✅ Wrapper updated to support both RaCNN and BaselineCNN\n",
    "class LogitsWrapper(nn.Module):\n",
    "    def __init__(self, model):\n",
    "        super().__init__()\n",
    "        self.model = model\n",
    "\n",
    "    def forward(self, x):\n",
    "        try:\n",
    "            # For RaCNN\n",
    "            return self.model(x, return_attention=False)\n",
    "        except TypeError:\n",
    "            # For BaselineCNN (no return_attention arg)\n",
    "            return self.model(x)\n",
    "\n",
    "\n",
    "baseline_wrap = LogitsWrapper(baseline_model).to(DEVICE)\n",
    "racnn_wrap   = LogitsWrapper(racnn_model).to(DEVICE)\n",
    "\n",
    "# ✅ Paper-like FGSM & PGD eps sweep\n",
    "EPS_LIST = [0.01, 0.02, 0.04, 0.08]  # paper uses multiple eps values\n",
    "\n",
    "def make_attacks_for_model(wrapped_model, eps):\n",
    "    return {\n",
    "        f\"FGSM_eps{eps}\":\n",
    "            torchattacks.FGSM(wrapped_model, eps=eps),\n",
    "        f\"PGD_eps{eps}\":\n",
    "            torchattacks.PGD(wrapped_model, eps=eps, alpha=eps/4, steps=10),\n",
    "    }\n",
    "\n",
    "def evaluate_attacks(model_name, wrapped_model, dataloader, device):\n",
    "    results = {}\n",
    "    wrapped_model.eval()\n",
    "\n",
    "    for eps in EPS_LIST:\n",
    "        attacks = make_attacks_for_model(wrapped_model, eps)\n",
    "\n",
    "        for atk_name, atk in attacks.items():\n",
    "            correct = 0\n",
    "            total = 0\n",
    "\n",
    "            for imgs, labels in tqdm(dataloader,\n",
    "                                     desc=f\"[{model_name} {atk_name}]\",\n",
    "                                     leave=False, ncols=100):\n",
    "\n",
    "                imgs = imgs.to(device)\n",
    "                labels = labels.to(device)\n",
    "\n",
    "                # ✅ MUST allow grad for FGSM and PGD attacks\n",
    "                adv_imgs = atk(imgs, labels)\n",
    "\n",
    "                # ✅ gradient not needed during evaluation\n",
    "                with torch.no_grad():\n",
    "                    logits = wrapped_model(adv_imgs)\n",
    "                    preds = logits.argmax(1)\n",
    "                    correct += (preds == labels).sum().item()\n",
    "                    total += labels.size(0)\n",
    "\n",
    "            acc = 100.0 * correct / total\n",
    "            results[atk_name] = acc\n",
    "            print(f\"{model_name:12s} | {atk_name:15s} -> {acc:.2f}%\")\n",
    "\n",
    "    return results\n",
    "\n",
    "\n",
    "\n",
    "results = {}\n",
    "results[\"baseline\"] = evaluate_attacks(\"Baseline\", baseline_wrap, test_loader, DEVICE)\n",
    "results[\"RaCNN-K5\"] = evaluate_attacks(\"RaCNN-K5\", racnn_wrap, test_loader, DEVICE)\n",
    "\n",
    "with open(ARTIFACTS / \"results_attacks.json\", \"w\") as f:\n",
    "    json.dump(results, f, indent=2)\n",
    "\n",
    "print(\"\\n✅ Adversarial evaluation complete.\")\n",
    "print(\"📁 Results saved to:\", ARTIFACTS / \"results_attacks.json\")"
   ]
  },
  {
   "cell_type": "code",
   "execution_count": 89,
   "id": "942e2576",
   "metadata": {},
   "outputs": [
    {
     "data": {
      "image/png": "[encoded data removed]",
      "text/plain": [
       "<Figure size 640x480 with 1 Axes>"
      ]
     },
     "metadata": {},
     "output_type": "display_data"
    },
    {
     "data": {
      "image/png": "[encoded data removed]",
      "text/plain": [
       "<Figure size 640x480 with 1 Axes>"
      ]
     },
     "metadata": {},
     "output_type": "display_data"
    }
   ],
   "source": [
    "import matplotlib.pyplot as plt\n",
    "\n",
    "# Results you provided\n",
    "eps_list = [0.01, 0.02, 0.04, 0.08]\n",
    "\n",
    "baseline_fgsm = [41.34, 36.39, 28.49, 19.28]\n",
    "baseline_pgd  = [28.71, 16.02,  5.25,  1.34]\n",
    "\n",
    "racnn_fgsm = [33.23, 32.46, 30.62, 27.90]\n",
    "racnn_pgd  = [31.08, 28.49, 23.28, 16.43]\n",
    "\n",
    "# ---- FGSM Plot ----\n",
    "plt.figure()\n",
    "plt.plot(eps_list, baseline_fgsm, marker='o', label=\"Baseline FGSM\")\n",
    "plt.plot(eps_list, racnn_fgsm, marker='o', label=\"RaCNN-K5 FGSM\")\n",
    "plt.title(\"FGSM Robustness Comparison\")\n",
    "plt.xlabel(\"Epsilon\")\n",
    "plt.ylabel(\"Accuracy (%)\")\n",
    "plt.grid(True)\n",
    "plt.legend()\n",
    "plt.show()\n",
    "\n",
    "# ---- PGD Plot ----\n",
    "plt.figure()\n",
    "plt.plot(eps_list, baseline_pgd, marker='o', label=\"Baseline PGD\")\n",
    "plt.plot(eps_list, racnn_pgd, marker='o', label=\"RaCNN-K5 PGD\")\n",
    "plt.title(\"PGD Robustness Comparison\")\n",
    "plt.xlabel(\"Epsilon\")\n",
    "plt.ylabel(\"Accuracy (%)\")\n",
    "plt.grid(True)\n",
    "plt.legend()\n",
    "plt.show()\n"
   ]
  },
  {
   "cell_type": "code",
   "execution_count": 105,
   "id": "2beaf8fa",
   "metadata": {},
   "outputs": [
    {
     "name": "stdout",
     "output_type": "stream",
     "text": [
      "Collecting foolbox==3.3.3\n",
      "  Downloading foolbox-3.3.3-py3-none-any.whl.metadata (7.3 kB)\n",
      "Requirement already satisfied: numpy in c:\\users\\user\\anaconda3\\envs\\torch310\\lib\\site-packages (from foolbox==3.3.3) (1.26.4)\n",
      "Requirement already satisfied: scipy in c:\\users\\user\\anaconda3\\envs\\torch310\\lib\\site-packages (from foolbox==3.3.3) (1.15.3)\n",
      "Requirement already satisfied: setuptools in c:\\users\\user\\anaconda3\\envs\\torch310\\lib\\site-packages (from foolbox==3.3.3) (78.1.1)\n",
      "Requirement already satisfied: eagerpy>=0.30.0 in c:\\users\\user\\anaconda3\\envs\\torch310\\lib\\site-packages (from foolbox==3.3.3) (0.30.0)\n",
      "Requirement already satisfied: GitPython>=3.0.7 in c:\\users\\user\\anaconda3\\envs\\torch310\\lib\\site-packages (from foolbox==3.3.3) (3.1.45)\n",
      "Requirement already satisfied: typing-extensions>=3.7.4.1 in c:\\users\\user\\anaconda3\\envs\\torch310\\lib\\site-packages (from foolbox==3.3.3) (4.12.2)\n",
      "Requirement already satisfied: requests>=2.24.0 in c:\\users\\user\\anaconda3\\envs\\torch310\\lib\\site-packages (from foolbox==3.3.3) (2.25.1)\n",
      "Requirement already satisfied: gitdb<5,>=4.0.1 in c:\\users\\user\\anaconda3\\envs\\torch310\\lib\\site-packages (from GitPython>=3.0.7->foolbox==3.3.3) (4.0.12)\n",
      "Requirement already satisfied: smmap<6,>=3.0.1 in c:\\users\\user\\anaconda3\\envs\\torch310\\lib\\site-packages (from gitdb<5,>=4.0.1->GitPython>=3.0.7->foolbox==3.3.3) (5.0.2)\n",
      "Requirement already satisfied: chardet<5,>=3.0.2 in c:\\users\\user\\anaconda3\\envs\\torch310\\lib\\site-packages (from requests>=2.24.0->foolbox==3.3.3) (4.0.0)\n",
      "Requirement already satisfied: idna<3,>=2.5 in c:\\users\\user\\anaconda3\\envs\\torch310\\lib\\site-packages (from requests>=2.24.0->foolbox==3.3.3) (2.10)\n",
      "Requirement already satisfied: urllib3<1.27,>=1.21.1 in c:\\users\\user\\anaconda3\\envs\\torch310\\lib\\site-packages (from requests>=2.24.0->foolbox==3.3.3) (1.26.20)\n",
      "Requirement already satisfied: certifi>=2017.4.17 in c:\\users\\user\\anaconda3\\envs\\torch310\\lib\\site-packages (from requests>=2.24.0->foolbox==3.3.3) (2025.8.3)\n",
      "Downloading foolbox-3.3.3-py3-none-any.whl (1.7 MB)\n",
      "   ---------------------------------------- 0.0/1.7 MB ? eta -:--:--\n",
      "   ------------------------- -------------- 1.0/1.7 MB 10.1 MB/s eta 0:00:01\n",
      "   ------------------------- -------------- 1.0/1.7 MB 10.1 MB/s eta 0:00:01\n",
      "   ---------------------------------------- 1.7/1.7 MB 3.0 MB/s eta 0:00:00\n",
      "Installing collected packages: foolbox\n",
      "  Attempting uninstall: foolbox\n",
      "    Found existing installation: foolbox 3.3.4\n",
      "    Uninstalling foolbox-3.3.4:\n",
      "      Successfully uninstalled foolbox-3.3.4\n",
      "Successfully installed foolbox-3.3.3\n"
     ]
    },
    {
     "name": "stderr",
     "output_type": "stream",
     "text": [
      "WARNING: Retrying (Retry(total=4, connect=None, read=None, redirect=None, status=None)) after connection broken by 'ReadTimeoutError(\"HTTPSConnectionPool(host='files.pythonhosted.org', port=443): Read timed out. (read timeout=15)\")': /packages/a4/99/09b916e22c94f9a1d77969ce0c0ebc8af96d7fe824232fbc6c10909159f2/foolbox-3.3.3-py3-none-any.whl\n"
     ]
    }
   ],
   "source": [
    "! pip install foolbox==3.3.3"
   ]
  },
  {
   "cell_type": "code",
   "execution_count": 128,
   "id": "5141a1d7",
   "metadata": {},
   "outputs": [
    {
     "name": "stdout",
     "output_type": "stream",
     "text": [
      "======================================================================\n",
      "COMPLETE RACNN EVALUATION\n",
      "======================================================================\n",
      "\n",
      "1️⃣ CLEAN ACCURACY\n",
      "----------------------------------------------------------------------\n"
     ]
    },
    {
     "name": "stderr",
     "output_type": "stream",
     "text": [
      "Baseline Clean: 100%|██████████| 40/40 [00:09<00:00,  4.02it/s]\n"
     ]
    },
    {
     "name": "stdout",
     "output_type": "stream",
     "text": [
      "✅ Baseline Clean: 87.53%\n"
     ]
    },
    {
     "name": "stderr",
     "output_type": "stream",
     "text": [
      "RaCNN Clean: 100%|██████████| 40/40 [00:21<00:00,  1.90it/s]\n"
     ]
    },
    {
     "name": "stdout",
     "output_type": "stream",
     "text": [
      "✅ RaCNN Clean: 83.31%\n",
      "\n",
      "2️⃣ ADVERSARIAL ROBUSTNESS (L2 PGD)\n",
      "----------------------------------------------------------------------\n",
      "\n",
      "Baseline | norm_eps=1.0e-05 → L2=1.0516\n"
     ]
    },
    {
     "name": "stderr",
     "output_type": "stream",
     "text": [
      "                                                            \r"
     ]
    },
    {
     "name": "stdout",
     "output_type": "stream",
     "text": [
      "  Robust Acc: 15.92%\n",
      "\n",
      "Baseline | norm_eps=2.0e-05 → L2=1.4872\n"
     ]
    },
    {
     "name": "stderr",
     "output_type": "stream",
     "text": [
      "                                                            \r"
     ]
    },
    {
     "name": "stdout",
     "output_type": "stream",
     "text": [
      "  Robust Acc: 4.62%\n",
      "\n",
      "Baseline | norm_eps=8.0e-05 → L2=2.9745\n"
     ]
    },
    {
     "name": "stderr",
     "output_type": "stream",
     "text": [
      "                                                            \r"
     ]
    },
    {
     "name": "stdout",
     "output_type": "stream",
     "text": [
      "  Robust Acc: 0.01%\n",
      "\n",
      "Baseline | norm_eps=1.0e-04 → L2=3.3255\n"
     ]
    },
    {
     "name": "stderr",
     "output_type": "stream",
     "text": [
      "                                                            \r"
     ]
    },
    {
     "name": "stdout",
     "output_type": "stream",
     "text": [
      "  Robust Acc: 0.00%\n",
      "\n",
      "Baseline | norm_eps=2.0e-04 → L2=4.7030\n"
     ]
    },
    {
     "name": "stderr",
     "output_type": "stream",
     "text": [
      "                                                            \r"
     ]
    },
    {
     "name": "stdout",
     "output_type": "stream",
     "text": [
      "  Robust Acc: 0.00%\n",
      "\n",
      "Baseline | norm_eps=4.0e-04 → L2=6.6511\n"
     ]
    },
    {
     "name": "stderr",
     "output_type": "stream",
     "text": [
      "                                                            \r"
     ]
    },
    {
     "name": "stdout",
     "output_type": "stream",
     "text": [
      "  Robust Acc: 0.00%\n",
      "\n",
      "RaCNN | norm_eps=1.0e-05 → L2=1.0516\n"
     ]
    },
    {
     "name": "stderr",
     "output_type": "stream",
     "text": [
      "                                                            \r"
     ]
    },
    {
     "name": "stdout",
     "output_type": "stream",
     "text": [
      "  Robust Acc: 70.12%\n",
      "\n",
      "RaCNN | norm_eps=2.0e-05 → L2=1.4872\n"
     ]
    },
    {
     "name": "stderr",
     "output_type": "stream",
     "text": [
      "                                                            \r"
     ]
    },
    {
     "name": "stdout",
     "output_type": "stream",
     "text": [
      "  Robust Acc: 65.32%\n",
      "\n",
      "RaCNN | norm_eps=8.0e-05 → L2=2.9745\n"
     ]
    },
    {
     "name": "stderr",
     "output_type": "stream",
     "text": [
      "                                                            \r"
     ]
    },
    {
     "name": "stdout",
     "output_type": "stream",
     "text": [
      "  Robust Acc: 49.54%\n",
      "\n",
      "RaCNN | norm_eps=1.0e-04 → L2=3.3255\n"
     ]
    },
    {
     "name": "stderr",
     "output_type": "stream",
     "text": [
      "                                                            \r"
     ]
    },
    {
     "name": "stdout",
     "output_type": "stream",
     "text": [
      "  Robust Acc: 47.10%\n",
      "\n",
      "RaCNN | norm_eps=2.0e-04 → L2=4.7030\n"
     ]
    },
    {
     "name": "stderr",
     "output_type": "stream",
     "text": [
      "                                                            \r"
     ]
    },
    {
     "name": "stdout",
     "output_type": "stream",
     "text": [
      "  Robust Acc: 35.55%\n",
      "\n",
      "RaCNN | norm_eps=4.0e-04 → L2=6.6511\n"
     ]
    },
    {
     "name": "stderr",
     "output_type": "stream",
     "text": [
      "                                                            \r"
     ]
    },
    {
     "name": "stdout",
     "output_type": "stream",
     "text": [
      "  Robust Acc: 22.74%\n",
      "\n",
      "3️⃣ PLOTTING RESULTS\n",
      "----------------------------------------------------------------------\n"
     ]
    },
    {
     "data": {
      "image/png": "[encoded data removed]",
      "text/plain": [
       "<Figure size 1000x600 with 1 Axes>"
      ]
     },
     "metadata": {},
     "output_type": "display_data"
    },
    {
     "name": "stdout",
     "output_type": "stream",
     "text": [
      "\n",
      "4️⃣ RESULTS SUMMARY\n",
      "======================================================================\n",
      "Epsilon      Baseline        RaCNN           Improvement    \n",
      "----------------------------------------------------------------------\n",
      "Clean         87.53%          83.31%          -4.22%\n",
      "1e-05         15.92%          70.12%         +54.20%\n",
      "2e-05          4.62%          65.32%         +60.70%\n",
      "8e-05          0.01%          49.54%         +49.53%\n",
      "1e-04          0.00%          47.10%         +47.10%\n",
      "2e-04          0.00%          35.55%         +35.55%\n",
      "4e-04          0.00%          22.74%         +22.74%\n",
      "======================================================================\n"
     ]
    }
   ],
   "source": [
    "import foolbox as fb\n",
    "\n",
    "def setup_foolbox_models(baseline_model, racnn_model, device=\"cuda\"):\n",
    "    \"\"\"\n",
    "    ✅ FIXED: Correct Foolbox setup\n",
    "    \n",
    "    CRITICAL: Your data is ALREADY normalized, so don't normalize again!\n",
    "    \"\"\"\n",
    "    baseline_model.eval()\n",
    "    racnn_model.eval()\n",
    "    \n",
    "    # ✅ CORRECT: No preprocessing (data is already normalized)\n",
    "    baseline_fmodel = fb.PyTorchModel(\n",
    "        baseline_model,\n",
    "        bounds=(-3, 3),  # Approximate bounds for normalized CIFAR-10\n",
    "        device=device\n",
    "    )\n",
    "    \n",
    "    racnn_fmodel = fb.PyTorchModel(\n",
    "        racnn_model,\n",
    "        bounds=(-3, 3),\n",
    "        device=device\n",
    "    )\n",
    "    \n",
    "    return baseline_fmodel, racnn_fmodel\n",
    "\n",
    "\n",
    "def eval_clean_accuracy(model_name, fmodel, loader, device=\"cuda\"):\n",
    "    \"\"\"Evaluate clean accuracy\"\"\"\n",
    "    correct = total = 0\n",
    "    \n",
    "    for x, y in tqdm(loader, desc=f\"{model_name} Clean\"):\n",
    "        x, y = x.to(device), y.to(device)\n",
    "        preds = fmodel(x).argmax(1)\n",
    "        correct += (preds == y).sum().item()\n",
    "        total += y.size(0)\n",
    "    \n",
    "    acc = 100 * correct / total\n",
    "    print(f\"✅ {model_name} Clean: {acc:.2f}%\")\n",
    "    return acc\n",
    "\n",
    "\n",
    "def eval_robustness(model_name, fmodel, loader, \n",
    "                    eps_values=[1e-5, 2e-5, 8e-5, 1e-4, 2e-4, 4e-4],\n",
    "                    device=\"cuda\"):\n",
    "    \"\"\"\n",
    "    ✅ FIXED: Correct robustness evaluation\n",
    "    \n",
    "    Paper uses NORMALIZED L2 distance:\n",
    "    L2_norm² = ||x - x_adv||² / (dim(x) * (max - min)²)\n",
    "    \"\"\"\n",
    "    results = {}\n",
    "    DIM = 3 * 32 * 32  # 3072\n",
    "    \n",
    "    # For normalized data, the range is approximately (-3, 3) = 6\n",
    "    VALUE_RANGE = 6.0\n",
    "    \n",
    "    attack = fb.attacks.L2ProjectedGradientDescentAttack(\n",
    "        steps=40,\n",
    "        rel_stepsize=0.025\n",
    "    )\n",
    "    \n",
    "    for norm_eps in eps_values:\n",
    "        # Convert normalized eps to actual L2 epsilon\n",
    "        # norm_eps = L2² / (dim * range²)\n",
    "        # L2 = sqrt(norm_eps * dim * range²)\n",
    "        actual_eps = np.sqrt(norm_eps * DIM * VALUE_RANGE**2)\n",
    "        \n",
    "        print(f\"\\n{model_name} | norm_eps={norm_eps:.1e} → L2={actual_eps:.4f}\")\n",
    "        \n",
    "        correct = total = 0\n",
    "        \n",
    "        for x, y in tqdm(loader, desc=f\"eps={norm_eps:.1e}\", leave=False):\n",
    "            x, y = x.to(device), y.to(device)\n",
    "            \n",
    "            _, clipped, _ = attack(fmodel, x, y, epsilons=[actual_eps])\n",
    "            \n",
    "            pert = clipped[0]\n",
    "            if not torch.is_tensor(pert):\n",
    "                pert = torch.from_numpy(pert)\n",
    "            adv = pert.to(device)\n",
    "\n",
    "            preds = fmodel(adv).argmax(1)\n",
    "            \n",
    "            correct += (preds == y).sum().item()\n",
    "            total += y.size(0)\n",
    "        \n",
    "        acc = 100 * correct / total\n",
    "        results[norm_eps] = acc\n",
    "        print(f\"  Robust Acc: {acc:.2f}%\")\n",
    "    \n",
    "    return results\n",
    "\n",
    "\n",
    "# ============================================================================\n",
    "# 7. COMPLETE EVALUATION SCRIPT\n",
    "# ============================================================================\n",
    "\n",
    "def complete_evaluation(baseline_model, racnn_model, test_loader, device=\"cuda\"):\n",
    "    \"\"\"Run complete evaluation\"\"\"\n",
    "    \n",
    "    print(\"=\"*70)\n",
    "    print(\"COMPLETE RACNN EVALUATION\")\n",
    "    print(\"=\"*70)\n",
    "    \n",
    "    # Setup Foolbox models\n",
    "    baseline_fmodel, racnn_fmodel = setup_foolbox_models(\n",
    "        baseline_model, racnn_model, device\n",
    "    )\n",
    "    \n",
    "    # 1. Clean Accuracy\n",
    "    print(\"\\n1️⃣ CLEAN ACCURACY\")\n",
    "    print(\"-\"*70)\n",
    "    clean_baseline = eval_clean_accuracy(\"Baseline\", baseline_fmodel, test_loader, device)\n",
    "    clean_racnn = eval_clean_accuracy(\"RaCNN\", racnn_fmodel, test_loader, device)\n",
    "    \n",
    "    # 2. Robustness Evaluation\n",
    "    print(\"\\n2️⃣ ADVERSARIAL ROBUSTNESS (L2 PGD)\")\n",
    "    print(\"-\"*70)\n",
    "    \n",
    "    eps_values = [1e-5, 2e-5, 8e-5, 1e-4, 2e-4, 4e-4]\n",
    "    \n",
    "    robust_baseline = eval_robustness(\"Baseline\", baseline_fmodel, test_loader, \n",
    "                                     eps_values, device)\n",
    "    robust_racnn = eval_robustness(\"RaCNN\", racnn_fmodel, test_loader,\n",
    "                                   eps_values, device)\n",
    "    \n",
    "    # 3. Plot Results\n",
    "    print(\"\\n3️⃣ PLOTTING RESULTS\")\n",
    "    print(\"-\"*70)\n",
    "    \n",
    "    import matplotlib.pyplot as plt\n",
    "    \n",
    "    fig, ax = plt.subplots(figsize=(10, 6))\n",
    "    \n",
    "    eps_labels = [f\"{eps:.0e}\" for eps in eps_values]\n",
    "    x_pos = np.arange(len(eps_values))\n",
    "    \n",
    "    ax.plot(x_pos, [robust_baseline[eps] for eps in eps_values], \n",
    "            'o-', label='Baseline', linewidth=2, markersize=8)\n",
    "    ax.plot(x_pos, [robust_racnn[eps] for eps in eps_values],\n",
    "            's-', label='RaCNN-K5', linewidth=2, markersize=8)\n",
    "    \n",
    "    ax.set_xlabel('Normalized L2 Epsilon', fontsize=12)\n",
    "    ax.set_ylabel('Accuracy (%)', fontsize=12)\n",
    "    ax.set_title('Adversarial Robustness on CIFAR-10', fontsize=14)\n",
    "    ax.set_xticks(x_pos)\n",
    "    ax.set_xticklabels(eps_labels)\n",
    "    ax.legend(fontsize=11)\n",
    "    ax.grid(True, alpha=0.3)\n",
    "    \n",
    "    plt.tight_layout()\n",
    "    plt.savefig('racnn_robustness.png', dpi=300)\n",
    "    plt.show()\n",
    "    \n",
    "    # 4. Summary Table\n",
    "    print(\"\\n4️⃣ RESULTS SUMMARY\")\n",
    "    print(\"=\"*70)\n",
    "    print(f\"{'Epsilon':<12} {'Baseline':<15} {'RaCNN':<15} {'Improvement':<15}\")\n",
    "    print(\"-\"*70)\n",
    "    print(f\"{'Clean':<12} {clean_baseline:>6.2f}%{'':<8} {clean_racnn:>6.2f}%{'':<8} \"\n",
    "          f\"{clean_racnn-clean_baseline:>+6.2f}%\")\n",
    "    \n",
    "    for eps in eps_values:\n",
    "        improvement = robust_racnn[eps] - robust_baseline[eps]\n",
    "        print(f\"{eps:<12.0e} {robust_baseline[eps]:>6.2f}%{'':<8} \"\n",
    "              f\"{robust_racnn[eps]:>6.2f}%{'':<8} {improvement:>+6.2f}%\")\n",
    "    \n",
    "    print(\"=\"*70)\n",
    "    \n",
    "    return {\n",
    "        'clean': {'baseline': clean_baseline, 'racnn': clean_racnn},\n",
    "        'robust': {'baseline': robust_baseline, 'racnn': robust_racnn}\n",
    "    }\n",
    "\n",
    "\n",
    "# ============================================================================\n",
    "# USAGE\n",
    "# ============================================================================\n",
    "\n",
    "# After training baseline and RaCNN:\n",
    "\n",
    "results = complete_evaluation(\n",
    "    baseline_model=baseline_model,\n",
    "    racnn_model=racnn_model,\n",
    "    test_loader=test_loader,\n",
    "    device=\"cuda\"\n",
    ")"
   ]
  },
  {
   "cell_type": "code",
   "execution_count": 21,
   "id": "1b969310",
   "metadata": {},
   "outputs": [
    {
     "name": "stdout",
     "output_type": "stream",
     "text": [
      "======================================================================\n",
      "FGSM (L2) EVALUATION FOR RACNN\n",
      "======================================================================\n",
      "\n",
      "1️⃣ CLEAN ACCURACY\n"
     ]
    },
    {
     "name": "stderr",
     "output_type": "stream",
     "text": [
      "Baseline Clean: 100%|██████████| 40/40 [00:09<00:00,  4.24it/s]\n"
     ]
    },
    {
     "name": "stdout",
     "output_type": "stream",
     "text": [
      "✅ Baseline Clean: 87.03%\n"
     ]
    },
    {
     "name": "stderr",
     "output_type": "stream",
     "text": [
      "RaCNN Clean: 100%|██████████| 40/40 [00:21<00:00,  1.88it/s]\n"
     ]
    },
    {
     "name": "stdout",
     "output_type": "stream",
     "text": [
      "✅ RaCNN Clean: 83.39%\n",
      "\n",
      "2️⃣ FGSM (L2) ROBUSTNESS\n",
      "\n",
      "Baseline | norm_eps=1.0e-05 → L2=1.0516\n"
     ]
    },
    {
     "name": "stderr",
     "output_type": "stream",
     "text": [
      "                                                                    \r"
     ]
    },
    {
     "name": "stdout",
     "output_type": "stream",
     "text": [
      "  FGSM L2 Robust Acc: 21.56%\n",
      "\n",
      "Baseline | norm_eps=2.0e-05 → L2=1.4872\n"
     ]
    },
    {
     "name": "stderr",
     "output_type": "stream",
     "text": [
      "                                                                    \r"
     ]
    },
    {
     "name": "stdout",
     "output_type": "stream",
     "text": [
      "  FGSM L2 Robust Acc: 12.12%\n",
      "\n",
      "Baseline | norm_eps=8.0e-05 → L2=2.9745\n"
     ]
    },
    {
     "name": "stderr",
     "output_type": "stream",
     "text": [
      "                                                                    \r"
     ]
    },
    {
     "name": "stdout",
     "output_type": "stream",
     "text": [
      "  FGSM L2 Robust Acc: 4.64%\n",
      "\n",
      "Baseline | norm_eps=1.0e-04 → L2=3.3255\n"
     ]
    },
    {
     "name": "stderr",
     "output_type": "stream",
     "text": [
      "                                                                    \r"
     ]
    },
    {
     "name": "stdout",
     "output_type": "stream",
     "text": [
      "  FGSM L2 Robust Acc: 4.32%\n",
      "\n",
      "Baseline | norm_eps=2.0e-04 → L2=4.7030\n"
     ]
    },
    {
     "name": "stderr",
     "output_type": "stream",
     "text": [
      "                                                                    \r"
     ]
    },
    {
     "name": "stdout",
     "output_type": "stream",
     "text": [
      "  FGSM L2 Robust Acc: 3.71%\n",
      "\n",
      "Baseline | norm_eps=4.0e-04 → L2=6.6511\n"
     ]
    },
    {
     "name": "stderr",
     "output_type": "stream",
     "text": [
      "                                                                    \r"
     ]
    },
    {
     "name": "stdout",
     "output_type": "stream",
     "text": [
      "  FGSM L2 Robust Acc: 4.24%\n",
      "\n",
      "RaCNN | norm_eps=1.0e-05 → L2=1.0516\n"
     ]
    },
    {
     "name": "stderr",
     "output_type": "stream",
     "text": [
      "                                                                    \r"
     ]
    },
    {
     "name": "stdout",
     "output_type": "stream",
     "text": [
      "  FGSM L2 Robust Acc: 72.15%\n",
      "\n",
      "RaCNN | norm_eps=2.0e-05 → L2=1.4872\n"
     ]
    },
    {
     "name": "stderr",
     "output_type": "stream",
     "text": [
      "                                                                    \r"
     ]
    },
    {
     "name": "stdout",
     "output_type": "stream",
     "text": [
      "  FGSM L2 Robust Acc: 69.63%\n",
      "\n",
      "RaCNN | norm_eps=8.0e-05 → L2=2.9745\n"
     ]
    },
    {
     "name": "stderr",
     "output_type": "stream",
     "text": [
      "                                                                    \r"
     ]
    },
    {
     "name": "stdout",
     "output_type": "stream",
     "text": [
      "  FGSM L2 Robust Acc: 61.80%\n",
      "\n",
      "RaCNN | norm_eps=1.0e-04 → L2=3.3255\n"
     ]
    },
    {
     "name": "stderr",
     "output_type": "stream",
     "text": [
      "                                                                    \r"
     ]
    },
    {
     "name": "stdout",
     "output_type": "stream",
     "text": [
      "  FGSM L2 Robust Acc: 59.81%\n",
      "\n",
      "RaCNN | norm_eps=2.0e-04 → L2=4.7030\n"
     ]
    },
    {
     "name": "stderr",
     "output_type": "stream",
     "text": [
      "                                                                    \r"
     ]
    },
    {
     "name": "stdout",
     "output_type": "stream",
     "text": [
      "  FGSM L2 Robust Acc: 51.35%\n",
      "\n",
      "RaCNN | norm_eps=4.0e-04 → L2=6.6511\n"
     ]
    },
    {
     "name": "stderr",
     "output_type": "stream",
     "text": [
      "                                                                    "
     ]
    },
    {
     "name": "stdout",
     "output_type": "stream",
     "text": [
      "  FGSM L2 Robust Acc: 40.84%\n"
     ]
    },
    {
     "name": "stderr",
     "output_type": "stream",
     "text": [
      "\r"
     ]
    },
    {
     "data": {
      "image/png": "[encoded data removed]",
      "text/plain": [
       "<Figure size 800x500 with 1 Axes>"
      ]
     },
     "metadata": {},
     "output_type": "display_data"
    },
    {
     "name": "stdout",
     "output_type": "stream",
     "text": [
      "\n",
      "SUMMARY TABLE\n",
      "======================================================================\n",
      "Epsilon      Baseline        RaCNN           Δ (RaCNN-B)    \n",
      "----------------------------------------------------------------------\n",
      "Clean         87.03%          83.39%          -3.64%\n",
      "1e-05         21.56%          72.15%         +50.59%\n",
      "2e-05         12.12%          69.63%         +57.51%\n",
      "8e-05          4.64%          61.80%         +57.16%\n",
      "1e-04          4.32%          59.81%         +55.49%\n",
      "2e-04          3.71%          51.35%         +47.64%\n",
      "4e-04          4.24%          40.84%         +36.60%\n",
      "======================================================================\n"
     ]
    }
   ],
   "source": [
    "import torch\n",
    "import numpy as np\n",
    "import foolbox as fb\n",
    "from tqdm import tqdm\n",
    "import matplotlib.pyplot as plt\n",
    "\n",
    "\n",
    "# ==========================================================\n",
    "# ✅ Foolbox model setup (no extra preprocessing)\n",
    "# ==========================================================\n",
    "def setup_foolbox_models(baseline_model, racnn_model, device=\"cuda\"):\n",
    "    baseline_model.eval()\n",
    "    racnn_model.eval()\n",
    "\n",
    "    baseline_fmodel = fb.PyTorchModel(\n",
    "        baseline_model,\n",
    "        bounds=(-3, 3),   # normalized CIFAR-10 input range\n",
    "        device=device\n",
    "    )\n",
    "\n",
    "    racnn_fmodel = fb.PyTorchModel(\n",
    "        racnn_model,\n",
    "        bounds=(-3, 3),\n",
    "        device=device\n",
    "    )\n",
    "\n",
    "    return baseline_fmodel, racnn_fmodel\n",
    "\n",
    "\n",
    "# ==========================================================\n",
    "# ✅ Clean Accuracy\n",
    "# ==========================================================\n",
    "def eval_clean_accuracy(model_name, fmodel, loader, device=\"cuda\"):\n",
    "    correct = total = 0\n",
    "    model = fmodel._model  # underlying PyTorch model\n",
    "\n",
    "    for x, y in tqdm(loader, desc=f\"{model_name} Clean\"):\n",
    "        x, y = x.to(device), y.to(device)\n",
    "        preds = model(x).argmax(1)\n",
    "        correct += (preds == y).sum().item()\n",
    "        total += y.size(0)\n",
    "\n",
    "    acc = 100 * correct / total\n",
    "    print(f\"✅ {model_name} Clean: {acc:.2f}%\")\n",
    "    return acc\n",
    "\n",
    "\n",
    "# ==========================================================\n",
    "# ✅ FGSM (L2 Fast Gradient Method) Robustness Evaluation\n",
    "# ==========================================================\n",
    "def eval_fgsm_l2(model_name, fmodel, loader,\n",
    "                 eps_values=[1e-5, 2e-5, 8e-5, 1e-4, 2e-4, 4e-4],\n",
    "                 device=\"cuda\"):\n",
    "    \"\"\"\n",
    "    L2 Fast Gradient Method (FGSM) evaluation\n",
    "    Equivalent to 1-step L2 PGD with step-size = epsilon\n",
    "    \"\"\"\n",
    "    results = {}\n",
    "    DIM = 3 * 32 * 32\n",
    "    VALUE_RANGE = 6.0  # for normalized CIFAR-10\n",
    "\n",
    "    attack = fb.attacks.L2FastGradientAttack()  # ✅ single-step attack\n",
    "\n",
    "    for norm_eps in eps_values:\n",
    "        # Convert normalized eps to actual L2 epsilon\n",
    "        actual_eps = np.sqrt(norm_eps * DIM * VALUE_RANGE**2)\n",
    "        print(f\"\\n{model_name} | norm_eps={norm_eps:.1e} → L2={actual_eps:.4f}\")\n",
    "\n",
    "        correct = total = 0\n",
    "\n",
    "        for x, y in tqdm(loader, desc=f\"FGSM L2 eps={norm_eps:.1e}\", leave=False):\n",
    "            x, y = x.to(device), y.to(device)\n",
    "\n",
    "            _, clipped, _ = attack(fmodel, x, y, epsilons=[actual_eps])\n",
    "\n",
    "            adv = clipped[0]\n",
    "            if not torch.is_tensor(adv):\n",
    "                adv = torch.from_numpy(adv)\n",
    "            adv = adv.to(device)\n",
    "\n",
    "            preds = fmodel._model(adv).argmax(1)\n",
    "            correct += (preds == y).sum().item()\n",
    "            total += y.size(0)\n",
    "\n",
    "        acc = 100 * correct / total\n",
    "        results[norm_eps] = acc\n",
    "        print(f\"  FGSM L2 Robust Acc: {acc:.2f}%\")\n",
    "\n",
    "    return results\n",
    "\n",
    "\n",
    "# ==========================================================\n",
    "# ✅ Combine Clean + FGSM L2\n",
    "# ==========================================================\n",
    "def complete_fgsm_evaluation(baseline_model, racnn_model, test_loader, device=\"cuda\"):\n",
    "    print(\"=\" * 70)\n",
    "    print(\"FGSM (L2) EVALUATION FOR RACNN\")\n",
    "    print(\"=\" * 70)\n",
    "\n",
    "    baseline_fmodel, racnn_fmodel = setup_foolbox_models(baseline_model, racnn_model, device)\n",
    "\n",
    "    print(\"\\n1️⃣ CLEAN ACCURACY\")\n",
    "    clean_base = eval_clean_accuracy(\"Baseline\", baseline_fmodel, test_loader, device)\n",
    "    clean_rac = eval_clean_accuracy(\"RaCNN\", racnn_fmodel, test_loader, device)\n",
    "\n",
    "    print(\"\\n2️⃣ FGSM (L2) ROBUSTNESS\")\n",
    "    eps_values = [1e-5, 2e-5, 8e-5, 1e-4, 2e-4, 4e-4]\n",
    "    robust_base = eval_fgsm_l2(\"Baseline\", baseline_fmodel, test_loader, eps_values, device)\n",
    "    robust_rac = eval_fgsm_l2(\"RaCNN\", racnn_fmodel, test_loader, eps_values, device)\n",
    "\n",
    "    # Plot results\n",
    "    eps_labels = [f\"{eps:.0e}\" for eps in eps_values]\n",
    "    x = np.arange(len(eps_values))\n",
    "\n",
    "    plt.figure(figsize=(8, 5))\n",
    "    plt.plot(x, [robust_base[e] for e in eps_values], 'o-', label='Baseline', linewidth=2)\n",
    "    plt.plot(x, [robust_rac[e] for e in eps_values], 's-', label='RaCNN-K5', linewidth=2)\n",
    "    plt.xticks(x, eps_labels)\n",
    "    plt.xlabel(\"Normalized L2 ε²\")\n",
    "    plt.ylabel(\"Accuracy (%)\")\n",
    "    plt.title(\"FGSM (L2) Robustness on CIFAR-10\")\n",
    "    plt.grid(alpha=0.3)\n",
    "    plt.legend()\n",
    "    plt.tight_layout()\n",
    "    plt.show()\n",
    "\n",
    "    # Summary table\n",
    "    print(\"\\nSUMMARY TABLE\")\n",
    "    print(\"=\" * 70)\n",
    "    print(f\"{'Epsilon':<12} {'Baseline':<15} {'RaCNN':<15} {'Δ (RaCNN-B)':<15}\")\n",
    "    print(\"-\" * 70)\n",
    "    print(f\"{'Clean':<12} {clean_base:>6.2f}%{'':<8} {clean_rac:>6.2f}%{'':<8} {clean_rac-clean_base:>+6.2f}%\")\n",
    "    for eps in eps_values:\n",
    "        diff = robust_rac[eps] - robust_base[eps]\n",
    "        print(f\"{eps:<12.0e} {robust_base[eps]:>6.2f}%{'':<8} {robust_rac[eps]:>6.2f}%{'':<8} {diff:>+6.2f}%\")\n",
    "    print(\"=\" * 70)\n",
    "\n",
    "    return {\"clean\": {\"base\": clean_base, \"rac\": clean_rac},\n",
    "            \"robust\": {\"base\": robust_base, \"rac\": robust_rac}}\n",
    "\n",
    "\n",
    "# ==========================================================\n",
    "# ✅ Usage\n",
    "# ==========================================================\n",
    "results_fgsm = complete_fgsm_evaluation(\n",
    "    baseline_model=baseline_model,\n",
    "    racnn_model=racnn_model,\n",
    "    test_loader=test_loader,\n",
    "    device=\"cuda\"\n",
    ")\n"
   ]
  },
  {
   "cell_type": "code",
   "execution_count": 22,
   "id": "6e403b2c",
   "metadata": {},
   "outputs": [
    {
     "name": "stdout",
     "output_type": "stream",
     "text": [
      "======================================================================\n",
      "iFGSM (L2) EVALUATION FOR RACNN\n",
      "======================================================================\n",
      "\n",
      "1️⃣ CLEAN ACCURACY\n"
     ]
    },
    {
     "name": "stderr",
     "output_type": "stream",
     "text": [
      "Baseline Clean: 100%|██████████| 40/40 [00:09<00:00,  4.01it/s]\n"
     ]
    },
    {
     "name": "stdout",
     "output_type": "stream",
     "text": [
      "✅ Baseline Clean: 87.03%\n"
     ]
    },
    {
     "name": "stderr",
     "output_type": "stream",
     "text": [
      "RaCNN Clean: 100%|██████████| 40/40 [00:18<00:00,  2.12it/s]\n"
     ]
    },
    {
     "name": "stdout",
     "output_type": "stream",
     "text": [
      "✅ RaCNN Clean: 83.39%\n",
      "\n",
      "2️⃣ iFGSM (L2) ROBUSTNESS\n",
      "\n",
      "Baseline | norm_eps=1.0e-05 → L2=1.0516\n"
     ]
    },
    {
     "name": "stderr",
     "output_type": "stream",
     "text": [
      "                                                                     \r"
     ]
    },
    {
     "name": "stdout",
     "output_type": "stream",
     "text": [
      "  iFGSM L2 Robust Acc: 4.82%\n",
      "\n",
      "Baseline | norm_eps=2.0e-05 → L2=1.4872\n"
     ]
    },
    {
     "name": "stderr",
     "output_type": "stream",
     "text": [
      "                                                                     \r"
     ]
    },
    {
     "name": "stdout",
     "output_type": "stream",
     "text": [
      "  iFGSM L2 Robust Acc: 0.59%\n",
      "\n",
      "Baseline | norm_eps=8.0e-05 → L2=2.9745\n"
     ]
    },
    {
     "name": "stderr",
     "output_type": "stream",
     "text": [
      "                                                                     \r"
     ]
    },
    {
     "name": "stdout",
     "output_type": "stream",
     "text": [
      "  iFGSM L2 Robust Acc: 0.00%\n",
      "\n",
      "Baseline | norm_eps=1.0e-04 → L2=3.3255\n"
     ]
    },
    {
     "name": "stderr",
     "output_type": "stream",
     "text": [
      "                                                                     \r"
     ]
    },
    {
     "name": "stdout",
     "output_type": "stream",
     "text": [
      "  iFGSM L2 Robust Acc: 0.00%\n",
      "\n",
      "Baseline | norm_eps=2.0e-04 → L2=4.7030\n"
     ]
    },
    {
     "name": "stderr",
     "output_type": "stream",
     "text": [
      "                                                                     \r"
     ]
    },
    {
     "name": "stdout",
     "output_type": "stream",
     "text": [
      "  iFGSM L2 Robust Acc: 0.00%\n",
      "\n",
      "Baseline | norm_eps=4.0e-04 → L2=6.6511\n"
     ]
    },
    {
     "name": "stderr",
     "output_type": "stream",
     "text": [
      "                                                                     \r"
     ]
    },
    {
     "name": "stdout",
     "output_type": "stream",
     "text": [
      "  iFGSM L2 Robust Acc: 0.00%\n",
      "\n",
      "RaCNN | norm_eps=1.0e-05 → L2=1.0516\n"
     ]
    },
    {
     "name": "stderr",
     "output_type": "stream",
     "text": [
      "                                                                     \r"
     ]
    },
    {
     "name": "stdout",
     "output_type": "stream",
     "text": [
      "  iFGSM L2 Robust Acc: 65.29%\n",
      "\n",
      "RaCNN | norm_eps=2.0e-05 → L2=1.4872\n"
     ]
    },
    {
     "name": "stderr",
     "output_type": "stream",
     "text": [
      "                                                                     \r"
     ]
    },
    {
     "name": "stdout",
     "output_type": "stream",
     "text": [
      "  iFGSM L2 Robust Acc: 58.07%\n",
      "\n",
      "RaCNN | norm_eps=8.0e-05 → L2=2.9745\n"
     ]
    },
    {
     "name": "stderr",
     "output_type": "stream",
     "text": [
      "                                                                     \r"
     ]
    },
    {
     "name": "stdout",
     "output_type": "stream",
     "text": [
      "  iFGSM L2 Robust Acc: 39.21%\n",
      "\n",
      "RaCNN | norm_eps=1.0e-04 → L2=3.3255\n"
     ]
    },
    {
     "name": "stderr",
     "output_type": "stream",
     "text": [
      "                                                                     \r"
     ]
    },
    {
     "name": "stdout",
     "output_type": "stream",
     "text": [
      "  iFGSM L2 Robust Acc: 35.76%\n",
      "\n",
      "RaCNN | norm_eps=2.0e-04 → L2=4.7030\n"
     ]
    },
    {
     "name": "stderr",
     "output_type": "stream",
     "text": [
      "                                                                     \r"
     ]
    },
    {
     "name": "stdout",
     "output_type": "stream",
     "text": [
      "  iFGSM L2 Robust Acc: 26.63%\n",
      "\n",
      "RaCNN | norm_eps=4.0e-04 → L2=6.6511\n"
     ]
    },
    {
     "name": "stderr",
     "output_type": "stream",
     "text": [
      "                                                                     "
     ]
    },
    {
     "name": "stdout",
     "output_type": "stream",
     "text": [
      "  iFGSM L2 Robust Acc: 18.24%\n"
     ]
    },
    {
     "name": "stderr",
     "output_type": "stream",
     "text": [
      "\r"
     ]
    },
    {
     "data": {
      "image/png": "[encoded data removed]",
      "text/plain": [
       "<Figure size 800x500 with 1 Axes>"
      ]
     },
     "metadata": {},
     "output_type": "display_data"
    },
    {
     "name": "stdout",
     "output_type": "stream",
     "text": [
      "\n",
      "SUMMARY TABLE\n",
      "======================================================================\n",
      "Epsilon      Baseline        RaCNN           Δ (RaCNN-B)    \n",
      "----------------------------------------------------------------------\n",
      "Clean         87.03%          83.39%          -3.64%\n",
      "1e-05          4.82%          65.29%         +60.47%\n",
      "2e-05          0.59%          58.07%         +57.48%\n",
      "8e-05          0.00%          39.21%         +39.21%\n",
      "1e-04          0.00%          35.76%         +35.76%\n",
      "2e-04          0.00%          26.63%         +26.63%\n",
      "4e-04          0.00%          18.24%         +18.24%\n",
      "======================================================================\n"
     ]
    }
   ],
   "source": [
    "# ==========================================================\n",
    "# ✅ iFGSM (L2 Basic Iterative Attack) Robustness Evaluation\n",
    "# ==========================================================\n",
    "def eval_ifgsm_l2(model_name, fmodel, loader,\n",
    "                  eps_values=[1e-5, 2e-5, 8e-5, 1e-4, 2e-4, 4e-4],\n",
    "                  steps=10,\n",
    "                  device=\"cuda\"):\n",
    "    \"\"\"\n",
    "    L2 Basic Iterative Method (multi-step FGSM)\n",
    "    Equivalent to iterative L2 PGD without random starts\n",
    "    \"\"\"\n",
    "    results = {}\n",
    "    DIM = 3 * 32 * 32\n",
    "    VALUE_RANGE = 6.0  # for normalized CIFAR-10\n",
    "\n",
    "    attack = fb.attacks.L2BasicIterativeAttack(steps=steps)\n",
    "\n",
    "    for norm_eps in eps_values:\n",
    "        actual_eps = np.sqrt(norm_eps * DIM * VALUE_RANGE**2)\n",
    "        print(f\"\\n{model_name} | norm_eps={norm_eps:.1e} → L2={actual_eps:.4f}\")\n",
    "\n",
    "        correct = total = 0\n",
    "\n",
    "        for x, y in tqdm(loader, desc=f\"iFGSM L2 eps={norm_eps:.1e}\", leave=False):\n",
    "            x, y = x.to(device), y.to(device)\n",
    "\n",
    "            _, clipped, _ = attack(fmodel, x, y, epsilons=[actual_eps])\n",
    "\n",
    "            adv = clipped[0]\n",
    "            if not torch.is_tensor(adv):\n",
    "                adv = torch.from_numpy(adv)\n",
    "            adv = adv.to(device)\n",
    "\n",
    "            preds = fmodel._model(adv).argmax(1)\n",
    "            correct += (preds == y).sum().item()\n",
    "            total += y.size(0)\n",
    "\n",
    "        acc = 100 * correct / total\n",
    "        results[norm_eps] = acc\n",
    "        print(f\"  iFGSM L2 Robust Acc: {acc:.2f}%\")\n",
    "\n",
    "    return results\n",
    "\n",
    "\n",
    "# ==========================================================\n",
    "# ✅ Combine Clean + iFGSM L2\n",
    "# ==========================================================\n",
    "def complete_ifgsm_evaluation(baseline_model, racnn_model, test_loader, device=\"cuda\"):\n",
    "    print(\"=\" * 70)\n",
    "    print(\"iFGSM (L2) EVALUATION FOR RACNN\")\n",
    "    print(\"=\" * 70)\n",
    "\n",
    "    baseline_fmodel, racnn_fmodel = setup_foolbox_models(baseline_model, racnn_model, device)\n",
    "\n",
    "    print(\"\\n1️⃣ CLEAN ACCURACY\")\n",
    "    clean_base = eval_clean_accuracy(\"Baseline\", baseline_fmodel, test_loader, device)\n",
    "    clean_rac = eval_clean_accuracy(\"RaCNN\", racnn_fmodel, test_loader, device)\n",
    "\n",
    "    print(\"\\n2️⃣ iFGSM (L2) ROBUSTNESS\")\n",
    "    eps_values = [1e-5, 2e-5, 8e-5, 1e-4, 2e-4, 4e-4]\n",
    "    robust_base = eval_ifgsm_l2(\"Baseline\", baseline_fmodel, test_loader, eps_values, steps=10, device=device)\n",
    "    robust_rac = eval_ifgsm_l2(\"RaCNN\", racnn_fmodel, test_loader, eps_values, steps=10, device=device)\n",
    "\n",
    "    # Plot results\n",
    "    eps_labels = [f\"{eps:.0e}\" for eps in eps_values]\n",
    "    x = np.arange(len(eps_values))\n",
    "\n",
    "    plt.figure(figsize=(8, 5))\n",
    "    plt.plot(x, [robust_base[e] for e in eps_values], 'o-', label='Baseline', linewidth=2)\n",
    "    plt.plot(x, [robust_rac[e] for e in eps_values], 's-', label='RaCNN-K5', linewidth=2)\n",
    "    plt.xticks(x, eps_labels)\n",
    "    plt.xlabel(\"Normalized L2 ε²\")\n",
    "    plt.ylabel(\"Accuracy (%)\")\n",
    "    plt.title(\"iFGSM (L2) Robustness on CIFAR-10\")\n",
    "    plt.grid(alpha=0.3)\n",
    "    plt.legend()\n",
    "    plt.tight_layout()\n",
    "    plt.show()\n",
    "\n",
    "    # Summary table\n",
    "    print(\"\\nSUMMARY TABLE\")\n",
    "    print(\"=\" * 70)\n",
    "    print(f\"{'Epsilon':<12} {'Baseline':<15} {'RaCNN':<15} {'Δ (RaCNN-B)':<15}\")\n",
    "    print(\"-\" * 70)\n",
    "    print(f\"{'Clean':<12} {clean_base:>6.2f}%{'':<8} {clean_rac:>6.2f}%{'':<8} {clean_rac-clean_base:>+6.2f}%\")\n",
    "    for eps in eps_values:\n",
    "        diff = robust_rac[eps] - robust_base[eps]\n",
    "        print(f\"{eps:<12.0e} {robust_base[eps]:>6.2f}%{'':<8} {robust_rac[eps]:>6.2f}%{'':<8} {diff:>+6.2f}%\")\n",
    "    print(\"=\" * 70)\n",
    "\n",
    "    return {\"clean\": {\"base\": clean_base, \"rac\": clean_rac},\n",
    "            \"robust\": {\"base\": robust_base, \"rac\": robust_rac}}\n",
    "\n",
    "\n",
    "# ==========================================================\n",
    "# ✅ Usage\n",
    "# ==========================================================\n",
    "results_ifgsm = complete_ifgsm_evaluation(\n",
    "    baseline_model=baseline_model,\n",
    "    racnn_model=racnn_model,\n",
    "    test_loader=test_loader,\n",
    "    device=\"cuda\"\n",
    ")\n"
   ]
  },
  {
   "cell_type": "code",
   "execution_count": 23,
   "id": "332cf716",
   "metadata": {},
   "outputs": [
    {
     "name": "stdout",
     "output_type": "stream",
     "text": [
      "======================================================================\n",
      "DeepFool (L2) EVALUATION FOR RACNN\n",
      "======================================================================\n",
      "\n",
      "1️⃣ CLEAN ACCURACY\n"
     ]
    },
    {
     "name": "stderr",
     "output_type": "stream",
     "text": [
      "Baseline Clean: 100%|██████████| 40/40 [00:09<00:00,  4.14it/s]\n"
     ]
    },
    {
     "name": "stdout",
     "output_type": "stream",
     "text": [
      "✅ Baseline Clean: 87.03%\n"
     ]
    },
    {
     "name": "stderr",
     "output_type": "stream",
     "text": [
      "RaCNN Clean: 100%|██████████| 40/40 [00:19<00:00,  2.07it/s]\n"
     ]
    },
    {
     "name": "stdout",
     "output_type": "stream",
     "text": [
      "✅ RaCNN Clean: 83.39%\n",
      "\n",
      "2️⃣ DEEPFOOL (L2) ROBUSTNESS\n",
      "\n",
      "Baseline | norm_eps=1.0e-05 → L2=1.0516\n"
     ]
    },
    {
     "name": "stderr",
     "output_type": "stream",
     "text": [
      "                                                                        \r"
     ]
    },
    {
     "name": "stdout",
     "output_type": "stream",
     "text": [
      "  DeepFool L2 Robust Acc: 10.86%\n",
      "\n",
      "Baseline | norm_eps=2.0e-05 → L2=1.4872\n"
     ]
    },
    {
     "name": "stderr",
     "output_type": "stream",
     "text": [
      "                                                                        \r"
     ]
    },
    {
     "name": "stdout",
     "output_type": "stream",
     "text": [
      "  DeepFool L2 Robust Acc: 2.84%\n",
      "\n",
      "Baseline | norm_eps=8.0e-05 → L2=2.9745\n"
     ]
    },
    {
     "name": "stderr",
     "output_type": "stream",
     "text": [
      "                                                                        \r"
     ]
    },
    {
     "name": "stdout",
     "output_type": "stream",
     "text": [
      "  DeepFool L2 Robust Acc: 0.00%\n",
      "\n",
      "Baseline | norm_eps=1.0e-04 → L2=3.3255\n"
     ]
    },
    {
     "name": "stderr",
     "output_type": "stream",
     "text": [
      "                                                                        \r"
     ]
    },
    {
     "name": "stdout",
     "output_type": "stream",
     "text": [
      "  DeepFool L2 Robust Acc: 0.00%\n",
      "\n",
      "Baseline | norm_eps=2.0e-04 → L2=4.7030\n"
     ]
    },
    {
     "name": "stderr",
     "output_type": "stream",
     "text": [
      "                                                                        \r"
     ]
    },
    {
     "name": "stdout",
     "output_type": "stream",
     "text": [
      "  DeepFool L2 Robust Acc: 0.00%\n",
      "\n",
      "Baseline | norm_eps=4.0e-04 → L2=6.6511\n"
     ]
    },
    {
     "name": "stderr",
     "output_type": "stream",
     "text": [
      "                                                                        \r"
     ]
    },
    {
     "name": "stdout",
     "output_type": "stream",
     "text": [
      "  DeepFool L2 Robust Acc: 0.00%\n",
      "\n",
      "RaCNN | norm_eps=1.0e-05 → L2=1.0516\n"
     ]
    },
    {
     "name": "stderr",
     "output_type": "stream",
     "text": [
      "                                                                          \r"
     ]
    },
    {
     "name": "stdout",
     "output_type": "stream",
     "text": [
      "  DeepFool L2 Robust Acc: 69.16%\n",
      "\n",
      "RaCNN | norm_eps=2.0e-05 → L2=1.4872\n"
     ]
    },
    {
     "name": "stderr",
     "output_type": "stream",
     "text": [
      "                                                                          \r"
     ]
    },
    {
     "name": "stdout",
     "output_type": "stream",
     "text": [
      "  DeepFool L2 Robust Acc: 64.36%\n",
      "\n",
      "RaCNN | norm_eps=8.0e-05 → L2=2.9745\n"
     ]
    },
    {
     "name": "stderr",
     "output_type": "stream",
     "text": [
      "                                                                          \r"
     ]
    },
    {
     "name": "stdout",
     "output_type": "stream",
     "text": [
      "  DeepFool L2 Robust Acc: 49.28%\n",
      "\n",
      "RaCNN | norm_eps=1.0e-04 → L2=3.3255\n"
     ]
    },
    {
     "name": "stderr",
     "output_type": "stream",
     "text": [
      "                                                                          \r"
     ]
    },
    {
     "name": "stdout",
     "output_type": "stream",
     "text": [
      "  DeepFool L2 Robust Acc: 45.42%\n",
      "\n",
      "RaCNN | norm_eps=2.0e-04 → L2=4.7030\n"
     ]
    },
    {
     "name": "stderr",
     "output_type": "stream",
     "text": [
      "                                                                          \r"
     ]
    },
    {
     "name": "stdout",
     "output_type": "stream",
     "text": [
      "  DeepFool L2 Robust Acc: 32.49%\n",
      "\n",
      "RaCNN | norm_eps=4.0e-04 → L2=6.6511\n"
     ]
    },
    {
     "name": "stderr",
     "output_type": "stream",
     "text": [
      "                                                                          "
     ]
    },
    {
     "name": "stdout",
     "output_type": "stream",
     "text": [
      "  DeepFool L2 Robust Acc: 18.87%\n"
     ]
    },
    {
     "name": "stderr",
     "output_type": "stream",
     "text": [
      "\r"
     ]
    },
    {
     "data": {
      "image/png": "[encoded data removed]",
      "text/plain": [
       "<Figure size 800x500 with 1 Axes>"
      ]
     },
     "metadata": {},
     "output_type": "display_data"
    },
    {
     "name": "stdout",
     "output_type": "stream",
     "text": [
      "\n",
      "SUMMARY TABLE\n",
      "======================================================================\n",
      "Epsilon      Baseline        RaCNN           Δ (RaCNN-B)    \n",
      "----------------------------------------------------------------------\n",
      "Clean         87.03%          83.39%          -3.64%\n",
      "1e-05         10.86%          69.16%         +58.30%\n",
      "2e-05          2.84%          64.36%         +61.52%\n",
      "8e-05          0.00%          49.28%         +49.28%\n",
      "1e-04          0.00%          45.42%         +45.42%\n",
      "2e-04          0.00%          32.49%         +32.49%\n",
      "4e-04          0.00%          18.87%         +18.87%\n",
      "======================================================================\n"
     ]
    }
   ],
   "source": [
    "def eval_deepfool_l2(model_name, fmodel, loader,\n",
    "                     eps_values=[1e-5, 2e-5, 8e-5, 1e-4, 2e-4, 4e-4],\n",
    "                     steps=50,\n",
    "                     device=\"cuda\"):\n",
    "    \"\"\"\n",
    "    DeepFool (L2) — an iterative attack that finds minimal perturbations.\n",
    "    We threshold the perturbation by given L2 radius for fair comparison.\n",
    "    \"\"\"\n",
    "    results = {}\n",
    "    DIM = 3 * 32 * 32\n",
    "    VALUE_RANGE = 6.0  # normalized CIFAR-10 range\n",
    "\n",
    "    attack = fb.attacks.L2DeepFoolAttack(steps=steps)\n",
    "\n",
    "    for norm_eps in eps_values:\n",
    "        actual_eps = np.sqrt(norm_eps * DIM * VALUE_RANGE**2)\n",
    "        print(f\"\\n{model_name} | norm_eps={norm_eps:.1e} → L2={actual_eps:.4f}\")\n",
    "\n",
    "        correct = total = 0\n",
    "\n",
    "        for x, y in tqdm(loader, desc=f\"DeepFool L2 eps={norm_eps:.1e}\", leave=False):\n",
    "            x, y = x.to(device), y.to(device)\n",
    "\n",
    "            _, clipped, _ = attack(fmodel, x, y, epsilons=[actual_eps])\n",
    "\n",
    "            adv = clipped[0]\n",
    "            if not torch.is_tensor(adv):\n",
    "                adv = torch.from_numpy(adv)\n",
    "            adv = adv.to(device)\n",
    "\n",
    "            preds = fmodel._model(adv).argmax(1)\n",
    "            correct += (preds == y).sum().item()\n",
    "            total += y.size(0)\n",
    "\n",
    "        acc = 100 * correct / total\n",
    "        results[norm_eps] = acc\n",
    "        print(f\"  DeepFool L2 Robust Acc: {acc:.2f}%\")\n",
    "\n",
    "    return results\n",
    "\n",
    "\n",
    "# ==========================================================\n",
    "# ✅ Combine Clean + DeepFool L2\n",
    "# ==========================================================\n",
    "def complete_deepfool_evaluation(baseline_model, racnn_model, test_loader, device=\"cuda\"):\n",
    "    print(\"=\" * 70)\n",
    "    print(\"DeepFool (L2) EVALUATION FOR RACNN\")\n",
    "    print(\"=\" * 70)\n",
    "\n",
    "    baseline_fmodel, racnn_fmodel = setup_foolbox_models(baseline_model, racnn_model, device)\n",
    "\n",
    "    print(\"\\n1️⃣ CLEAN ACCURACY\")\n",
    "    clean_base = eval_clean_accuracy(\"Baseline\", baseline_fmodel, test_loader, device)\n",
    "    clean_rac = eval_clean_accuracy(\"RaCNN\", racnn_fmodel, test_loader, device)\n",
    "\n",
    "    print(\"\\n2️⃣ DEEPFOOL (L2) ROBUSTNESS\")\n",
    "    eps_values = [1e-5, 2e-5, 8e-5, 1e-4, 2e-4, 4e-4]\n",
    "    robust_base = eval_deepfool_l2(\"Baseline\", baseline_fmodel, test_loader, eps_values, steps=50, device=device)\n",
    "    robust_rac = eval_deepfool_l2(\"RaCNN\", racnn_fmodel, test_loader, eps_values, steps=50, device=device)\n",
    "\n",
    "    # Plot results\n",
    "    eps_labels = [f\"{eps:.0e}\" for eps in eps_values]\n",
    "    x = np.arange(len(eps_values))\n",
    "\n",
    "    plt.figure(figsize=(8, 5))\n",
    "    plt.plot(x, [robust_base[e] for e in eps_values], 'o-', label='Baseline', linewidth=2)\n",
    "    plt.plot(x, [robust_rac[e] for e in eps_values], 's-', label='RaCNN-K5', linewidth=2)\n",
    "    plt.xticks(x, eps_labels)\n",
    "    plt.xlabel(\"Normalized L2 ε²\")\n",
    "    plt.ylabel(\"Accuracy (%)\")\n",
    "    plt.title(\"DeepFool (L2) Robustness on CIFAR-10\")\n",
    "    plt.grid(alpha=0.3)\n",
    "    plt.legend()\n",
    "    plt.tight_layout()\n",
    "    plt.show()\n",
    "\n",
    "    # Summary table\n",
    "    print(\"\\nSUMMARY TABLE\")\n",
    "    print(\"=\" * 70)\n",
    "    print(f\"{'Epsilon':<12} {'Baseline':<15} {'RaCNN':<15} {'Δ (RaCNN-B)':<15}\")\n",
    "    print(\"-\" * 70)\n",
    "    print(f\"{'Clean':<12} {clean_base:>6.2f}%{'':<8} {clean_rac:>6.2f}%{'':<8} {clean_rac-clean_base:>+6.2f}%\")\n",
    "    for eps in eps_values:\n",
    "        diff = robust_rac[eps] - robust_base[eps]\n",
    "        print(f\"{eps:<12.0e} {robust_base[eps]:>6.2f}%{'':<8} {robust_rac[eps]:>6.2f}%{'':<8} {diff:>+6.2f}%\")\n",
    "    print(\"=\" * 70)\n",
    "\n",
    "    return {\"clean\": {\"base\": clean_base, \"rac\": clean_rac},\n",
    "            \"robust\": {\"base\": robust_base, \"rac\": robust_rac}}\n",
    "\n",
    "\n",
    "# ==========================================================\n",
    "# ✅ Usage\n",
    "# ==========================================================\n",
    "results_deepfool = complete_deepfool_evaluation(\n",
    "    baseline_model=baseline_model,\n",
    "    racnn_model=racnn_model,\n",
    "    test_loader=test_loader,\n",
    "    device=\"cuda\"\n",
    ")"
   ]
  }
 ],
 "metadata": {
  "kernelspec": {
   "display_name": "torch310",
   "language": "python",
   "name": "python3"
  },
  "language_info": {
   "codemirror_mode": {
    "name": "ipython",
    "version": 3
   },
   "file_extension": ".py",
   "mimetype": "text/x-python",
   "name": "python",
   "nbconvert_exporter": "python",
   "pygments_lexer": "ipython3",
   "version": "3.10.18"
  }
 },
 "nbformat": 4,
 "nbformat_minor": 5
}
